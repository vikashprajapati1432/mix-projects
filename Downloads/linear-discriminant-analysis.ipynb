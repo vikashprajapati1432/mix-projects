{
 "cells": [
  {
   "cell_type": "markdown",
   "id": "cb19fbd2",
   "metadata": {
    "_cell_guid": "b1076dfc-b9ad-4769-8c92-a6c4dae69d19",
    "_uuid": "8f2839f25d086af736a60e9eeb907d3b93b6e0e5",
    "papermill": {
     "duration": 0.016758,
     "end_time": "2022-12-12T14:41:30.262113",
     "exception": false,
     "start_time": "2022-12-12T14:41:30.245355",
     "status": "completed"
    },
    "tags": []
   },
   "source": [
    "# Linear Discriminant Analysis Demo\n",
    "\n",
    "## Discussion\n",
    "\n",
    "**Linear Discriminant Analysis** is a popular technique for performing dimensionality reduction on a dataset. Dimensionality reduction is the reduction of a dataset from $n$ variables to $k$ variables, where the $k$ variables are some combination of the $n$ variables that preserves or maximizes some useful property of the dataset. In the case of Linear Discriminant Analysis, the new variables are chosen (and the data reprojected) in a way that maximizes the _linear separability_ of a certain set of classes in the underlying data.\n",
    "\n",
    "In other words, given a dataset with $n$ variables, including an embedded set of labels that we want to predict, we can apply LDA to the data and reduce it to $k$ components, where those components are chosen in such a way that they maximize our ability to \"draw lines\" to distinguish the classes.\n",
    "\n",
    "So for example, an ideal application of a two-component LDA reduction will look like this:\n",
    "\n",
    "![](https://i.imgur.com/BERGLQv.png)\n",
    "\n",
    "The technique was originally introduced by Fischer himself in the 1930s, making it one of the oldest techniques in the book.\n",
    "\n",
    "An LDA transform is useful as a preprocessing step when modeling classes because it transforms the space in such a way that algorithms which then go and draw those boundaries, like support vector machines, perform much better on the transformed data than on the original projections.\n",
    "\n",
    "However, it is also useful as an EDA technique. In this application, LDA can be compared to PCA. PCA is another dimensionality reduction technique (you can explore in detail in [this notebook](https://www.kaggle.com/residentmario/dimensionality-reduction-and-pca-for-fashion-mnist/)) that creates new variables that maximize the *variance* of the underlying dataset. As such, it functions in the absence of data labels (it is an unsupervised technique). LDA, meanwhile, is based on categorical labels, and creates new variables that maximize the *linear distinguishability* of the underlying dataset.\n",
    "\n",
    "PCA is an interesting technique to try out on a broad variety of datasets because it will teach us how the variables are interact with one another, finding axes in the dataset which make intrinsic sense and might potentially even be worth creating new features for.\n",
    "\n",
    "When we have meaningfully labelled data, LDA is another great technique to try out. Applying LDA to a dataset will tell us how linearly separable our dataset is (which, depending on the context, may also be a commentary on howmeaningful our labels are). That, in turn, is a good marker of how hard we will have to work to generate a model with reasonable classification performace. Furthermore, by looking at what variables load highly, we can determine what elements of the dataset are the strongest signals for each of our classes\n",
    "\n",
    "## Mathematics\n",
    "\n",
    "A mathematical sketch of LDA is as follows. Suppose that $f_k(x)$ is the conditional probability that a point with features $x$ is in the class $G=k$. Let $\\pi_k$ is be the probability that any one of these classes will occur (e.g. so that $\\sum_k \\pi_k  = 1$).\n",
    "\n",
    "Baye's theorem holds that:\n",
    "\n",
    "$$P(G=k \\: | \\: X=x) = \\frac{f_k(x)\\pi_k}{\\sum_{k} f_k(x) \\pi_k}$$\n",
    "\n",
    "Assume that all of the classes have a common covariance matrix ($\\sum_k = \\sum_k \\forall k$) and that the classes are distributed as multivariate Gaussian distributions (e.g. each class of points is distributed normally across each of the $n$ variables).\n",
    "\n",
    "Then we may look at the [log-odds](https://www.kaggle.com/residentmario/logistic-regression-with-wta-tennis-matches/) of two classes ($k$ and $l$), and find that:\n",
    "\n",
    "$$\\log{\\frac{P(G=k\\: | \\: X=x)}{P(G=l \\: | \\: X=x)}} = \\log{\\frac{f_k(x)}{f_k(x)}} + \\log{\\frac{\\pi_k}{\\pi_l}}$$\n",
    "$$= \\log{\\frac{\\pi_k}{\\pi_l} - \\frac{1}{2}(\\mu_k + \\mu_l)^T \\sum^{-1}(\\mu_k - \\mu_l)} + x^T \\sum^{-1}(\\mu_k - \\mu_l)$$\n",
    "\n",
    "What this all means mathematically is unimportant. What matters is that, due to the equal covariance matrix condition, the math simplifies to an equation linear in $x$ (the last line). Thus this is a statement that, given multivariate normal distributions with a common covariance matrix, the log-odds between any two classes is a linear function.\n",
    "\n",
    "That in turn implies that the decision boundaries between any $k$ and $l$ (the set $\\{x \\: | \\: P(G=k|X=x) = P(G=l|X=x)\\}$, e.g. the set of points such that the probability of a point being in either one of these classes is 50/50) is linear as well. Convexity in turn implies that the separators between the classes are hyperplanes. Hence the optimal solution for this classification problem will be:\n",
    "\n",
    "$$G(x) = \\text{argmax}_k\\left(\\delta_k (x) = x^T \\sum^{-1} \\mu_k - \\frac{1}{2} \\mu_k^T \\sum^{-1} \\mu_k + \\log{\\mu_k}\\right)$$\n",
    "\n",
    "Which is a convex function of $x$, and hence can be proveably solved using [gradient descent](https://www.kaggle.com/residentmario/gradient-descent-with-linear-regression/) or related optimization algorithms.\n",
    "\n",
    "So for the given set of conditions (Gaussian distributions and equal covariance matrices), LDA remaps the data to an ideally linearly separable space. These conditions are rarely met in practice exactly, but many classification task datasets are \"close enough\" to separability that LDA is a useful technique to try out on them.\n",
    "\n",
    "## Application\n",
    "\n",
    "In this notebook we will try using LDA for exploring the Cevital dataset. Our goal is to predict the type of source of oil.\n",
    "\n",
    "\n",
    "## About the Iris Data Set\n",
    "\n",
    "For the following tutorial, we will be working with the famous “Iris” dataset that has been deposited on the [UCI machine learning repository](https://archive.ics.uci.edu/ml/datasets/Iris)\n",
    "\n",
    "The iris dataset contains measurements for 150 iris flowers from three different species.\n",
    "\n",
    "The three classes in the Cevital dataset:\n",
    "\n",
    "1. Raw Material (n=50)\n",
    "2. Second Hand Material (n=50)\n",
    "3. Final Product (n=50)\n",
    "\n",
    "The four features of the Cevital dataset:\n",
    "\n",
    "1. production cost in DZD\n",
    "2. marketing cost  in DZD\n",
    "3. warehousing cost in DZD\n",
    "4. transportation cost in DZD\n",
    "\n",
    "\n",
    "## The Libraries & Functions\n",
    "\n",
    "Using Python 3.6.1, import the following libraries. Note the use of `%matplotlib inline`, allowing the display of graphs inline in iPython Notebook\n",
    "\n",
    "## Documentation\n",
    "[Scikit-Learn](http://scikit-learn.org/stable/documentation.html)<br>\n",
    "[Pandas](http://pandas.pydata.org/pandas-docs/stable/)<br>\n",
    "[Numpy](https://docs.scipy.org/doc/)<br>\n",
    "[Seaborn](https://seaborn.pydata.org/index.html)<br>\n",
    "\n",
    "\n",
    "\n",
    "\n",
    "### Prepare the Sample Data"
   ]
  },
  {
   "cell_type": "markdown",
   "id": "d3f6a2ed",
   "metadata": {},
   "source": [
    "problem:\n",
    "1.How do you solve linear discriminant analysis?\n",
    "2.What is the discriminant formula?\n",
    "3.What is the main goal of LDA?\n"
   ]
  },
  {
   "cell_type": "markdown",
   "id": "8ee854f9",
   "metadata": {},
   "source": [
    "solution:\n",
    "1.LDA in 5 steps\n",
    "Step 1: Computing the d-dimensional mean vectors. ...\n",
    "Step 2: Computing the Scatter Matrices. ...\n",
    "Step 3: Solving the generalized eigenvalue problem for the matrix S−1WSB. ...\n",
    "Step 4: Selecting linear discriminants for the new feature subspace.\n",
    "    \n",
    "2.This formula is used to find out whether the roots of the quadratic equation are real or imaginary. \n",
    "The Discriminant Formula in the quadratic equation ax2 + bx + c = 0 is. △ = b2 − 4ac.   \n",
    "\n",
    "3.The aim of LDA is to maximize the between-class variance and minimize the within-class variance, through a linear discriminant function, under the assumption that data in every class are described by a Gaussian probability density function with the same covariance."
   ]
  },
  {
   "cell_type": "code",
   "execution_count": 1,
   "id": "e5718fb3",
   "metadata": {
    "execution": {
     "iopub.execute_input": "2022-12-12T14:41:30.307789Z",
     "iopub.status.busy": "2022-12-12T14:41:30.302815Z",
     "iopub.status.idle": "2022-12-12T14:41:30.500883Z",
     "shell.execute_reply": "2022-12-12T14:41:30.501434Z",
     "shell.execute_reply.started": "2022-12-12T14:40:45.146469Z"
    },
    "papermill": {
     "duration": 0.223584,
     "end_time": "2022-12-12T14:41:30.501773",
     "exception": false,
     "start_time": "2022-12-12T14:41:30.278189",
     "status": "completed"
    },
    "tags": []
   },
   "outputs": [
    {
     "data": {
      "text/html": [
       "<div>\n",
       "<style scoped>\n",
       "    .dataframe tbody tr th:only-of-type {\n",
       "        vertical-align: middle;\n",
       "    }\n",
       "\n",
       "    .dataframe tbody tr th {\n",
       "        vertical-align: top;\n",
       "    }\n",
       "\n",
       "    .dataframe thead th {\n",
       "        text-align: right;\n",
       "    }\n",
       "</style>\n",
       "<table border=\"1\" class=\"dataframe\">\n",
       "  <thead>\n",
       "    <tr style=\"text-align: right;\">\n",
       "      <th></th>\n",
       "      <th>produ</th>\n",
       "      <th>transp</th>\n",
       "      <th>rate</th>\n",
       "      <th>marketing</th>\n",
       "      <th>class label</th>\n",
       "    </tr>\n",
       "    <tr>\n",
       "      <th>Id</th>\n",
       "      <th></th>\n",
       "      <th></th>\n",
       "      <th></th>\n",
       "      <th></th>\n",
       "      <th></th>\n",
       "    </tr>\n",
       "  </thead>\n",
       "  <tbody>\n",
       "    <tr>\n",
       "      <th>1</th>\n",
       "      <td>5.1</td>\n",
       "      <td>3.5</td>\n",
       "      <td>1.4</td>\n",
       "      <td>0.2</td>\n",
       "      <td>faible</td>\n",
       "    </tr>\n",
       "    <tr>\n",
       "      <th>2</th>\n",
       "      <td>4.9</td>\n",
       "      <td>3.0</td>\n",
       "      <td>1.4</td>\n",
       "      <td>0.2</td>\n",
       "      <td>faible</td>\n",
       "    </tr>\n",
       "    <tr>\n",
       "      <th>3</th>\n",
       "      <td>4.7</td>\n",
       "      <td>3.2</td>\n",
       "      <td>1.3</td>\n",
       "      <td>0.2</td>\n",
       "      <td>faible</td>\n",
       "    </tr>\n",
       "    <tr>\n",
       "      <th>4</th>\n",
       "      <td>4.6</td>\n",
       "      <td>3.1</td>\n",
       "      <td>4.7</td>\n",
       "      <td>0.2</td>\n",
       "      <td>faible</td>\n",
       "    </tr>\n",
       "    <tr>\n",
       "      <th>5</th>\n",
       "      <td>5.0</td>\n",
       "      <td>3.6</td>\n",
       "      <td>4.5</td>\n",
       "      <td>0.2</td>\n",
       "      <td>faible</td>\n",
       "    </tr>\n",
       "    <tr>\n",
       "      <th>...</th>\n",
       "      <td>...</td>\n",
       "      <td>...</td>\n",
       "      <td>...</td>\n",
       "      <td>...</td>\n",
       "      <td>...</td>\n",
       "    </tr>\n",
       "    <tr>\n",
       "      <th>146</th>\n",
       "      <td>6.7</td>\n",
       "      <td>3.0</td>\n",
       "      <td>4.7</td>\n",
       "      <td>2.3</td>\n",
       "      <td>fort</td>\n",
       "    </tr>\n",
       "    <tr>\n",
       "      <th>147</th>\n",
       "      <td>6.3</td>\n",
       "      <td>2.5</td>\n",
       "      <td>4.3</td>\n",
       "      <td>1.9</td>\n",
       "      <td>fort</td>\n",
       "    </tr>\n",
       "    <tr>\n",
       "      <th>148</th>\n",
       "      <td>6.5</td>\n",
       "      <td>3.0</td>\n",
       "      <td>5.2</td>\n",
       "      <td>2.0</td>\n",
       "      <td>fort</td>\n",
       "    </tr>\n",
       "    <tr>\n",
       "      <th>149</th>\n",
       "      <td>6.2</td>\n",
       "      <td>3.4</td>\n",
       "      <td>5.4</td>\n",
       "      <td>2.3</td>\n",
       "      <td>fort</td>\n",
       "    </tr>\n",
       "    <tr>\n",
       "      <th>150</th>\n",
       "      <td>5.9</td>\n",
       "      <td>3.0</td>\n",
       "      <td>5.1</td>\n",
       "      <td>1.8</td>\n",
       "      <td>fort</td>\n",
       "    </tr>\n",
       "  </tbody>\n",
       "</table>\n",
       "<p>150 rows × 5 columns</p>\n",
       "</div>"
      ],
      "text/plain": [
       "     produ  transp  rate  marketing class label\n",
       "Id                                             \n",
       "1      5.1     3.5   1.4        0.2      faible\n",
       "2      4.9     3.0   1.4        0.2      faible\n",
       "3      4.7     3.2   1.3        0.2      faible\n",
       "4      4.6     3.1   4.7        0.2      faible\n",
       "5      5.0     3.6   4.5        0.2      faible\n",
       "..     ...     ...   ...        ...         ...\n",
       "146    6.7     3.0   4.7        2.3        fort\n",
       "147    6.3     2.5   4.3        1.9        fort\n",
       "148    6.5     3.0   5.2        2.0        fort\n",
       "149    6.2     3.4   5.4        2.3        fort\n",
       "150    5.9     3.0   5.1        1.8        fort\n",
       "\n",
       "[150 rows x 5 columns]"
      ]
     },
     "metadata": {},
     "output_type": "display_data"
    },
    {
     "name": "stdout",
     "output_type": "stream",
     "text": [
      "<class 'pandas.core.frame.DataFrame'>\n",
      "Int64Index: 150 entries, 1 to 150\n",
      "Data columns (total 5 columns):\n",
      " #   Column       Non-Null Count  Dtype  \n",
      "---  ------       --------------  -----  \n",
      " 0   produ        150 non-null    float64\n",
      " 1   transp       150 non-null    float64\n",
      " 2   rate         150 non-null    float64\n",
      " 3   marketing    150 non-null    float64\n",
      " 4   class label  150 non-null    object \n",
      "dtypes: float64(4), object(1)\n",
      "memory usage: 7.0+ KB\n"
     ]
    },
    {
     "data": {
      "text/html": [
       "<div>\n",
       "<style scoped>\n",
       "    .dataframe tbody tr th:only-of-type {\n",
       "        vertical-align: middle;\n",
       "    }\n",
       "\n",
       "    .dataframe tbody tr th {\n",
       "        vertical-align: top;\n",
       "    }\n",
       "\n",
       "    .dataframe thead th {\n",
       "        text-align: right;\n",
       "    }\n",
       "</style>\n",
       "<table border=\"1\" class=\"dataframe\">\n",
       "  <thead>\n",
       "    <tr style=\"text-align: right;\">\n",
       "      <th></th>\n",
       "      <th>produ</th>\n",
       "      <th>transp</th>\n",
       "      <th>rate</th>\n",
       "      <th>marketing</th>\n",
       "    </tr>\n",
       "  </thead>\n",
       "  <tbody>\n",
       "    <tr>\n",
       "      <th>count</th>\n",
       "      <td>150.000000</td>\n",
       "      <td>150.000000</td>\n",
       "      <td>150.000000</td>\n",
       "      <td>150.000000</td>\n",
       "    </tr>\n",
       "    <tr>\n",
       "      <th>mean</th>\n",
       "      <td>5.843333</td>\n",
       "      <td>3.054000</td>\n",
       "      <td>4.327333</td>\n",
       "      <td>1.198667</td>\n",
       "    </tr>\n",
       "    <tr>\n",
       "      <th>std</th>\n",
       "      <td>0.828066</td>\n",
       "      <td>0.433594</td>\n",
       "      <td>0.987635</td>\n",
       "      <td>0.763161</td>\n",
       "    </tr>\n",
       "    <tr>\n",
       "      <th>min</th>\n",
       "      <td>4.300000</td>\n",
       "      <td>2.000000</td>\n",
       "      <td>1.300000</td>\n",
       "      <td>0.100000</td>\n",
       "    </tr>\n",
       "    <tr>\n",
       "      <th>25%</th>\n",
       "      <td>5.100000</td>\n",
       "      <td>2.800000</td>\n",
       "      <td>4.000000</td>\n",
       "      <td>0.300000</td>\n",
       "    </tr>\n",
       "    <tr>\n",
       "      <th>50%</th>\n",
       "      <td>5.800000</td>\n",
       "      <td>3.000000</td>\n",
       "      <td>4.500000</td>\n",
       "      <td>1.300000</td>\n",
       "    </tr>\n",
       "    <tr>\n",
       "      <th>75%</th>\n",
       "      <td>6.400000</td>\n",
       "      <td>3.300000</td>\n",
       "      <td>4.775000</td>\n",
       "      <td>1.800000</td>\n",
       "    </tr>\n",
       "    <tr>\n",
       "      <th>max</th>\n",
       "      <td>7.900000</td>\n",
       "      <td>4.400000</td>\n",
       "      <td>6.900000</td>\n",
       "      <td>2.500000</td>\n",
       "    </tr>\n",
       "  </tbody>\n",
       "</table>\n",
       "</div>"
      ],
      "text/plain": [
       "            produ      transp        rate   marketing\n",
       "count  150.000000  150.000000  150.000000  150.000000\n",
       "mean     5.843333    3.054000    4.327333    1.198667\n",
       "std      0.828066    0.433594    0.987635    0.763161\n",
       "min      4.300000    2.000000    1.300000    0.100000\n",
       "25%      5.100000    2.800000    4.000000    0.300000\n",
       "50%      5.800000    3.000000    4.500000    1.300000\n",
       "75%      6.400000    3.300000    4.775000    1.800000\n",
       "max      7.900000    4.400000    6.900000    2.500000"
      ]
     },
     "execution_count": 1,
     "metadata": {},
     "output_type": "execute_result"
    }
   ],
   "source": [
    "import pandas as pd\n",
    "\n",
    "data = pd.read_csv('/kaggle/input/cevital-data/data.csv')\n",
    "data.set_index(\"Id\",inplace = True)\n",
    "data.columns =  ['produ',\n",
    "                  'transp',\n",
    "                  'rate',\n",
    "                  'marketing','class label']\n",
    "\n",
    "display(data) # Shows Sample Data\n",
    "data.info() # Shows informations data type and counts of Non-Null\n",
    "data.describe()"
   ]
  },
  {
   "cell_type": "markdown",
   "id": "dd036f9d",
   "metadata": {
    "papermill": {
     "duration": 0.016811,
     "end_time": "2022-12-12T14:41:30.536064",
     "exception": false,
     "start_time": "2022-12-12T14:41:30.519253",
     "status": "completed"
    },
    "tags": []
   },
   "source": [
    "We will transform the class labels (Iris-setosa, Iris-versicolor, Iris-virginica)  to numeric values (1,2,3) for convenience. We can do this by simply calling a function called *LabelEndoder* from sckit-learn library. \n",
    "\n",
    "![](https://i.postimg.cc/MGWm84BC/IRIS-LABEL.png)"
   ]
  },
  {
   "cell_type": "code",
   "execution_count": 2,
   "id": "4cb512dd",
   "metadata": {
    "execution": {
     "iopub.execute_input": "2022-12-12T14:41:30.577386Z",
     "iopub.status.busy": "2022-12-12T14:41:30.576692Z",
     "iopub.status.idle": "2022-12-12T14:41:31.476778Z",
     "shell.execute_reply": "2022-12-12T14:41:31.476064Z",
     "shell.execute_reply.started": "2022-12-12T14:40:45.336504Z"
    },
    "papermill": {
     "duration": 0.923241,
     "end_time": "2022-12-12T14:41:31.476928",
     "exception": false,
     "start_time": "2022-12-12T14:41:30.553687",
     "status": "completed"
    },
    "tags": []
   },
   "outputs": [
    {
     "data": {
      "text/html": [
       "<div>\n",
       "<style scoped>\n",
       "    .dataframe tbody tr th:only-of-type {\n",
       "        vertical-align: middle;\n",
       "    }\n",
       "\n",
       "    .dataframe tbody tr th {\n",
       "        vertical-align: top;\n",
       "    }\n",
       "\n",
       "    .dataframe thead th {\n",
       "        text-align: right;\n",
       "    }\n",
       "</style>\n",
       "<table border=\"1\" class=\"dataframe\">\n",
       "  <thead>\n",
       "    <tr style=\"text-align: right;\">\n",
       "      <th></th>\n",
       "      <th>produ</th>\n",
       "      <th>transp</th>\n",
       "      <th>rate</th>\n",
       "      <th>marketing</th>\n",
       "      <th>class label</th>\n",
       "    </tr>\n",
       "  </thead>\n",
       "  <tbody>\n",
       "    <tr>\n",
       "      <th>produ</th>\n",
       "      <td>1.000000</td>\n",
       "      <td>-0.109369</td>\n",
       "      <td>0.468686</td>\n",
       "      <td>0.817954</td>\n",
       "      <td>0.460039</td>\n",
       "    </tr>\n",
       "    <tr>\n",
       "      <th>transp</th>\n",
       "      <td>-0.109369</td>\n",
       "      <td>1.000000</td>\n",
       "      <td>-0.130416</td>\n",
       "      <td>-0.356544</td>\n",
       "      <td>-0.612165</td>\n",
       "    </tr>\n",
       "    <tr>\n",
       "      <th>rate</th>\n",
       "      <td>0.468686</td>\n",
       "      <td>-0.130416</td>\n",
       "      <td>1.000000</td>\n",
       "      <td>0.516678</td>\n",
       "      <td>0.198248</td>\n",
       "    </tr>\n",
       "    <tr>\n",
       "      <th>marketing</th>\n",
       "      <td>0.817954</td>\n",
       "      <td>-0.356544</td>\n",
       "      <td>0.516678</td>\n",
       "      <td>1.000000</td>\n",
       "      <td>0.580749</td>\n",
       "    </tr>\n",
       "    <tr>\n",
       "      <th>class label</th>\n",
       "      <td>0.460039</td>\n",
       "      <td>-0.612165</td>\n",
       "      <td>0.198248</td>\n",
       "      <td>0.580749</td>\n",
       "      <td>1.000000</td>\n",
       "    </tr>\n",
       "  </tbody>\n",
       "</table>\n",
       "</div>"
      ],
      "text/plain": [
       "                produ    transp      rate  marketing  class label\n",
       "produ        1.000000 -0.109369  0.468686   0.817954     0.460039\n",
       "transp      -0.109369  1.000000 -0.130416  -0.356544    -0.612165\n",
       "rate         0.468686 -0.130416  1.000000   0.516678     0.198248\n",
       "marketing    0.817954 -0.356544  0.516678   1.000000     0.580749\n",
       "class label  0.460039 -0.612165  0.198248   0.580749     1.000000"
      ]
     },
     "execution_count": 2,
     "metadata": {},
     "output_type": "execute_result"
    }
   ],
   "source": [
    "from sklearn.preprocessing import LabelEncoder\n",
    "\n",
    "X = data.iloc[:,0:4].values\n",
    "y = data['class label'].values\n",
    "\n",
    "enc = LabelEncoder()\n",
    "label_encoder = enc.fit(y)\n",
    "y = label_encoder.transform(y) + 1\n",
    "label_dict = {1: 'forte', 2: 'moyene', 3:'faible'}\n",
    "\n",
    "le = LabelEncoder()\n",
    "data['class label']= le.fit_transform(data['class label'].values)\n",
    "data\n",
    "data.corr()\n",
    "\n"
   ]
  },
  {
   "cell_type": "code",
   "execution_count": 3,
   "id": "11ee98a8",
   "metadata": {
    "execution": {
     "iopub.execute_input": "2022-12-12T14:41:31.520607Z",
     "iopub.status.busy": "2022-12-12T14:41:31.519668Z",
     "iopub.status.idle": "2022-12-12T14:41:32.190141Z",
     "shell.execute_reply": "2022-12-12T14:41:32.189366Z",
     "shell.execute_reply.started": "2022-12-12T14:40:46.535847Z"
    },
    "papermill": {
     "duration": 0.69521,
     "end_time": "2022-12-12T14:41:32.190306",
     "exception": false,
     "start_time": "2022-12-12T14:41:31.495096",
     "status": "completed"
    },
    "tags": []
   },
   "outputs": [
    {
     "data": {
      "image/png": "[encoded data removed]",
      "text/plain": [
       "<Figure size 864x720 with 2 Axes>"
      ]
     },
     "metadata": {
      "needs_background": "light"
     },
     "output_type": "display_data"
    }
   ],
   "source": [
    "from matplotlib import pyplot as plt\n",
    "import numpy as np\n",
    "import math\n",
    "import seaborn as sns\n",
    "#Using Pearson Correlation\n",
    "plt.figure(figsize=(12,10))\n",
    "cor = data.corr()\n",
    "sns.heatmap(cor, annot=True, cmap=plt.cm.Reds)\n",
    "plt.savefig(\"correlation matrix\")\n",
    "plt.show()"
   ]
  },
  {
   "cell_type": "markdown",
   "id": "56fd97da",
   "metadata": {
    "papermill": {
     "duration": 0.018346,
     "end_time": "2022-12-12T14:41:32.228416",
     "exception": false,
     "start_time": "2022-12-12T14:41:32.210070",
     "status": "completed"
    },
    "tags": []
   },
   "source": [
    "Just to get a rough idea how the samples of our three classes Setosa, Versicolor and Virginica are distributed, let us visualize the distributions of the four different features in 1-dimensional histograms."
   ]
  },
  {
   "cell_type": "code",
   "execution_count": 4,
   "id": "0dc7b384",
   "metadata": {
    "execution": {
     "iopub.execute_input": "2022-12-12T14:41:32.294121Z",
     "iopub.status.busy": "2022-12-12T14:41:32.284023Z",
     "iopub.status.idle": "2022-12-12T14:41:34.401994Z",
     "shell.execute_reply": "2022-12-12T14:41:34.402464Z",
     "shell.execute_reply.started": "2022-12-12T14:40:47.175470Z"
    },
    "papermill": {
     "duration": 2.155298,
     "end_time": "2022-12-12T14:41:34.402678",
     "exception": false,
     "start_time": "2022-12-12T14:41:32.247380",
     "status": "completed"
    },
    "tags": []
   },
   "outputs": [
    {
     "data": {
      "image/png": "[encoded data removed]",
      "text/plain": [
       "<Figure size 1440x1440 with 4 Axes>"
      ]
     },
     "metadata": {
      "needs_background": "light"
     },
     "output_type": "display_data"
    }
   ],
   "source": [
    "from matplotlib import pyplot as plt\n",
    "import numpy as np\n",
    "import math\n",
    "\n",
    "fig, axes = plt.subplots(nrows=2, ncols=2, figsize=(20,20))\n",
    "\n",
    "feature_dict = {i:label for i,label in zip(\n",
    "                range(4),\n",
    "                  ('prod',\n",
    "                  'transpo',\n",
    "                  'rate',\n",
    "                  'marketing', ))}\n",
    "\n",
    "\n",
    "for ax,cnt in zip(axes.ravel(), range(4)):  \n",
    "\n",
    "    # set bin sizes\n",
    "    min_b = math.floor(np.min(X[:,cnt]))\n",
    "    max_b = math.ceil(np.max(X[:,cnt]))\n",
    "    bins = np.linspace(min_b, max_b, 20)\n",
    "\n",
    "    # plottling the histograms\n",
    "    for lab,col in zip(range(1,4), ('purple', 'grey', 'yellow')):\n",
    "        ax.hist(X[y==lab, cnt],\n",
    "                   color=col,\n",
    "                   label='class %s' %label_dict[lab],\n",
    "                   bins=bins,\n",
    "                   alpha=0.5,)\n",
    "    ylims = ax.get_ylim()\n",
    "\n",
    "    # plot annotation\n",
    "    leg = ax.legend(loc='upper right', fontsize=14)\n",
    "    leg.get_frame().set_alpha(0.5)\n",
    "    ax.set_ylim([0, max(ylims)+2])\n",
    "    ax.set_xlabel(feature_dict[cnt])\n",
    "    ax.set_title('Client Histo #%s' %str(cnt+1))\n",
    "\n",
    "    # hide axis ticks\n",
    "    ax.tick_params(axis=\"both\", which=\"both\", bottom=\"off\", top=\"off\",  \n",
    "            labelbottom=\"on\", left=\"off\", right=\"off\", labelleft=\"on\")\n",
    "\n",
    "    # remove axis spines\n",
    "    ax.spines[\"top\"].set_visible(False)  \n",
    "    ax.spines[\"right\"].set_visible(False)\n",
    "    ax.spines[\"bottom\"].set_visible(False)\n",
    "    ax.spines[\"left\"].set_visible(False)    \n",
    "\n",
    "\n",
    "plt.tight_layout()\n",
    "plt.savefig('data final')\n",
    "plt.show()"
   ]
  },
  {
   "cell_type": "code",
   "execution_count": 5,
   "id": "23db392f",
   "metadata": {
    "execution": {
     "iopub.execute_input": "2022-12-12T14:41:34.447061Z",
     "iopub.status.busy": "2022-12-12T14:41:34.446412Z",
     "iopub.status.idle": "2022-12-12T14:41:34.450634Z",
     "shell.execute_reply": "2022-12-12T14:41:34.451211Z",
     "shell.execute_reply.started": "2022-12-12T14:40:49.235387Z"
    },
    "papermill": {
     "duration": 0.028029,
     "end_time": "2022-12-12T14:41:34.451393",
     "exception": false,
     "start_time": "2022-12-12T14:41:34.423364",
     "status": "completed"
    },
    "tags": []
   },
   "outputs": [],
   "source": [
    "plt.show()"
   ]
  },
  {
   "cell_type": "markdown",
   "id": "052a1fe6",
   "metadata": {
    "papermill": {
     "duration": 0.020248,
     "end_time": "2022-12-12T14:41:34.492680",
     "exception": false,
     "start_time": "2022-12-12T14:41:34.472432",
     "status": "completed"
    },
    "tags": []
   },
   "source": [
    "From just looking at these simple graphical representations of the features, we can already tell that the petal lengths and widths are likely better suited as potential features two separate between the three flower classes. In practice, instead of reducing the dimensionality via a projection (here: LDA), a good alternative would be a feature selection technique. For low-dimensional datasets like Iris, a glance at those histograms would already be very informative. Another simple, but very useful technique would be to use feature selection algorithms; in case you are interested, I have a more detailed description on sequential feature selection algorithms [here](http://rasbt.github.io/mlxtend/user_guide/feature_selection/SequentialFeatureSelector/), and scikit-learn also implements a nice selection of alternative [approaches](https://scikit-learn.org/stable/modules/feature_selection.html)."
   ]
  },
  {
   "cell_type": "markdown",
   "id": "4950e5ef",
   "metadata": {
    "papermill": {
     "duration": 0.020041,
     "end_time": "2022-12-12T14:41:34.532959",
     "exception": false,
     "start_time": "2022-12-12T14:41:34.512918",
     "status": "completed"
    },
    "tags": []
   },
   "source": [
    "## Normality assumptions\n",
    "\n",
    "It should be mentioned that LDA assumes normal distributed data, features that are statistically independent, and identical covariance matrices for every class. However, this only applies for LDA as classifier and LDA for dimensionality reduction can also work reasonably well if those assumptions are violated. And even for classification tasks LDA seems can be quite robust to the distribution of the data:\n",
    "\n",
    "> “linear discriminant analysis frequently achieves good performances in the tasks of face and object recognition, even though the assumptions of common covariance matrix among groups and normality are often violated (Duda, et al., 2001)” (Tao Li, et al., 2006).\n",
    "\n",
    "Tao Li, Shenghuo Zhu, and Mitsunori Ogihara. “[Using Discriminant Analysis for Multi-Class Classification: An Experimental Investigation.](https://link.springer.com/article/10.1007/s10115-006-0013-y)” Knowledge and Information Systems 10, no. 4 (2006): 453–72.)\n",
    "\n",
    "Duda, Richard O, Peter E Hart, and David G Stork. 2001. Pattern Classification. New York: Wiley."
   ]
  },
  {
   "cell_type": "markdown",
   "id": "2513e19c",
   "metadata": {
    "papermill": {
     "duration": 0.019892,
     "end_time": "2022-12-12T14:41:34.573092",
     "exception": false,
     "start_time": "2022-12-12T14:41:34.553200",
     "status": "completed"
    },
    "tags": []
   },
   "source": [
    "## LDA via scikit-learn\n",
    "\n",
    "LDA can be perform conveniently by calling the LDA class in the scikit-learn machine learning library.\n",
    "\n",
    "## For Dimension Reduction\n",
    "\n",
    "We will first try to use LDA to reduce the number of features. \n",
    "LDA reduces dimensionality from original number of feature to <br>(C—1) features, where C is the number of classes. In this case, we have 3 classes, therefore the new feature space will have only 2 features"
   ]
  },
  {
   "cell_type": "code",
   "execution_count": 6,
   "id": "3c01a965",
   "metadata": {
    "execution": {
     "iopub.execute_input": "2022-12-12T14:41:34.619097Z",
     "iopub.status.busy": "2022-12-12T14:41:34.618348Z",
     "iopub.status.idle": "2022-12-12T14:41:34.959709Z",
     "shell.execute_reply": "2022-12-12T14:41:34.959089Z",
     "shell.execute_reply.started": "2022-12-12T14:40:49.241360Z"
    },
    "papermill": {
     "duration": 0.366509,
     "end_time": "2022-12-12T14:41:34.959876",
     "exception": false,
     "start_time": "2022-12-12T14:41:34.593367",
     "status": "completed"
    },
    "tags": []
   },
   "outputs": [
    {
     "name": "stdout",
     "output_type": "stream",
     "text": [
      "(Rows,Columns) of the original data is  (150, 4)\n",
      "\n",
      " After LDA Dimension Reductionn we have (150, 2)\n"
     ]
    }
   ],
   "source": [
    "from sklearn.discriminant_analysis import LinearDiscriminantAnalysis as LDA\n",
    "\n",
    "# Calling LDA\n",
    "lda_as_dimension_reduction = LDA(n_components=2)\n",
    "X_lda_sklearn = lda_as_dimension_reduction.fit_transform(X, y)\n",
    "\n",
    "print('(Rows,Columns) of the original data is ',X.shape)\n",
    "print('\\n After LDA Dimension Reductionn we have', X_lda_sklearn.shape)"
   ]
  },
  {
   "cell_type": "markdown",
   "id": "d71e199c",
   "metadata": {
    "papermill": {
     "duration": 0.020364,
     "end_time": "2022-12-12T14:41:35.002065",
     "exception": false,
     "start_time": "2022-12-12T14:41:34.981701",
     "status": "completed"
    },
    "tags": []
   },
   "source": [
    "Now, let’s express the “explained variance” as percentage:"
   ]
  },
  {
   "cell_type": "code",
   "execution_count": 7,
   "id": "2173d5d4",
   "metadata": {
    "execution": {
     "iopub.execute_input": "2022-12-12T14:41:35.049677Z",
     "iopub.status.busy": "2022-12-12T14:41:35.048863Z",
     "iopub.status.idle": "2022-12-12T14:41:35.053430Z",
     "shell.execute_reply": "2022-12-12T14:41:35.052663Z",
     "shell.execute_reply.started": "2022-12-12T14:40:49.640334Z"
    },
    "papermill": {
     "duration": 0.030472,
     "end_time": "2022-12-12T14:41:35.053641",
     "exception": false,
     "start_time": "2022-12-12T14:41:35.023169",
     "status": "completed"
    },
    "tags": []
   },
   "outputs": [
    {
     "name": "stdout",
     "output_type": "stream",
     "text": [
      "Variance explained:\n",
      "\n",
      "LDA 1: 98.81%\n",
      "LDA 2: 1.19%\n"
     ]
    }
   ],
   "source": [
    "## Explaning the varianvce for the new features created\n",
    "\n",
    "print('Variance explained:\\n')\n",
    "for i,j in enumerate(lda_as_dimension_reduction.explained_variance_ratio_):\n",
    "    print(f'LDA {i+1}: {j:.2%}')"
   ]
  },
  {
   "cell_type": "markdown",
   "id": "22a32b7c",
   "metadata": {
    "papermill": {
     "duration": 0.020818,
     "end_time": "2022-12-12T14:41:35.096587",
     "exception": false,
     "start_time": "2022-12-12T14:41:35.075769",
     "status": "completed"
    },
    "tags": []
   },
   "source": [
    "The LDA 1 is by far the most informative one, and we won’t loose much information if we would form a 1D-feature spaced based on this.\n",
    "\n",
    "What we are going to do next is to visualize the 2 columns created by LDA and see how the class are separated."
   ]
  },
  {
   "cell_type": "code",
   "execution_count": 8,
   "id": "b5b072fa",
   "metadata": {
    "execution": {
     "iopub.execute_input": "2022-12-12T14:41:35.167015Z",
     "iopub.status.busy": "2022-12-12T14:41:35.161605Z",
     "iopub.status.idle": "2022-12-12T14:41:35.466710Z",
     "shell.execute_reply": "2022-12-12T14:41:35.467339Z",
     "shell.execute_reply.started": "2022-12-12T14:40:49.649104Z"
    },
    "papermill": {
     "duration": 0.349672,
     "end_time": "2022-12-12T14:41:35.467527",
     "exception": false,
     "start_time": "2022-12-12T14:41:35.117855",
     "status": "completed"
    },
    "tags": []
   },
   "outputs": [
    {
     "data": {
      "image/png": "[encoded data removed]",
      "text/plain": [
       "<Figure size 432x288 with 1 Axes>"
      ]
     },
     "metadata": {
      "needs_background": "light"
     },
     "output_type": "display_data"
    }
   ],
   "source": [
    "# Create a function for plotting \n",
    "def plot_scikit_lda(X, title):\n",
    "\n",
    "    ax = plt.subplot(111)\n",
    "    for label,marker,color in zip(\n",
    "        range(1,4),('^', 's', 'o'),('purple', 'grey', 'yellow')):\n",
    "\n",
    "        plt.scatter(x=X[:,0][y == label],\n",
    "                    y=X[:,1][y == label] * -1, # flip the figure\n",
    "                    marker=marker,\n",
    "                    color=color,\n",
    "                    alpha=0.5,\n",
    "                    label=label_dict[label])\n",
    "\n",
    "    plt.xlabel('LD1')\n",
    "    plt.ylabel('LD2')\n",
    "\n",
    "    leg = plt.legend(loc='upper right', fancybox=True)\n",
    "    leg.get_frame().set_alpha(0.5)\n",
    "    plt.title(title)\n",
    "\n",
    "    # hide axis ticks\n",
    "    plt.tick_params(axis=\"both\", which=\"both\", bottom=\"off\", top=\"off\",  \n",
    "            labelbottom=\"on\", left=\"off\", right=\"off\", labelleft=\"on\")\n",
    "\n",
    "    # remove axis spines\n",
    "    ax.spines[\"top\"].set_visible(False)  \n",
    "    ax.spines[\"right\"].set_visible(False)\n",
    "    ax.spines[\"bottom\"].set_visible(False)\n",
    "    ax.spines[\"left\"].set_visible(False)    \n",
    "\n",
    "    plt.grid()\n",
    "    plt.tight_layout\n",
    "    plt.savefig(\"Dimension reduction\")\n",
    "    plt.show()\n",
    "    \n",
    "plot_scikit_lda(X_lda_sklearn, title='Default LDA via scikit-learn')"
   ]
  },
  {
   "cell_type": "markdown",
   "id": "3a3a5bfc",
   "metadata": {
    "papermill": {
     "duration": 0.021688,
     "end_time": "2022-12-12T14:41:35.511140",
     "exception": false,
     "start_time": "2022-12-12T14:41:35.489452",
     "status": "completed"
    },
    "tags": []
   },
   "source": [
    "The scatter plot above represents our new feature subspace that we constructed via LDA. We can see that the first linear discriminant “LD1” separates the classes quite nicely. However, the second discriminant, “LD2”, does not add much valuable information,which we’ve already concluded when we looked at the ranked varianvce explained.\n",
    "\n",
    "That's it we are able to use LDA to reduce the number of features from 4 to 2. "
   ]
  },
  {
   "cell_type": "markdown",
   "id": "b68a410d",
   "metadata": {
    "papermill": {
     "duration": 0.021614,
     "end_time": "2022-12-12T14:41:35.554968",
     "exception": false,
     "start_time": "2022-12-12T14:41:35.533354",
     "status": "completed"
    },
    "tags": []
   },
   "source": [
    "## Classification\n",
    "\n",
    "For the classification task, since we don't have a test dataset we are going to split our original data. 70% will be used for training the model and 30% will be used as validation.\n",
    "\n",
    "To split our data we are going to call function *train_test_split* from scikit-learn library."
   ]
  },
  {
   "cell_type": "code",
   "execution_count": 9,
   "id": "296c7193",
   "metadata": {
    "execution": {
     "iopub.execute_input": "2022-12-12T14:41:35.607060Z",
     "iopub.status.busy": "2022-12-12T14:41:35.606379Z",
     "iopub.status.idle": "2022-12-12T14:41:35.614835Z",
     "shell.execute_reply": "2022-12-12T14:41:35.615328Z",
     "shell.execute_reply.started": "2022-12-12T14:40:50.018573Z"
    },
    "papermill": {
     "duration": 0.038635,
     "end_time": "2022-12-12T14:41:35.615576",
     "exception": false,
     "start_time": "2022-12-12T14:41:35.576941",
     "status": "completed"
    },
    "tags": []
   },
   "outputs": [
    {
     "name": "stdout",
     "output_type": "stream",
     "text": [
      "\n",
      "Size of the dataset\n",
      "All data: (150, 4)\n",
      "Training: (105, 4)\n",
      "Validation: (45, 4)\n",
      "\n",
      "Proportion of 'TARGETS' in the dataset\n",
      "All data: [0.33333333 0.33333333 0.33333333]\n",
      "Validation: [0.33333333 0.33333333 0.33333333]\n",
      "Training: [0.33333333 0.33333333 0.33333333]\n"
     ]
    }
   ],
   "source": [
    "from sklearn.model_selection import train_test_split\n",
    "\n",
    "X_train, X_test, y_train, y_test = train_test_split(X, y, stratify=y, test_size=0.7, random_state=12345)\n",
    " \n",
    "print(\"\\nSize of the dataset\")\n",
    "print(\"All data:\", X.shape)\n",
    "print(\"Training:\", X_test.shape)    \n",
    "print(\"Validation:\", X_train.shape) \n",
    "    \n",
    "print(\"\\nProportion of 'TARGETS' in the dataset\")\n",
    "print(\"All data:\", np.bincount(y)[1:] / float(len(y)))\n",
    "print(\"Validation:\", np.bincount(y_test)[1:] / float(len(y_test))) \n",
    "print(\"Training:\", np.bincount(y_train)[1:] / float(len(y_train)))        "
   ]
  },
  {
   "cell_type": "code",
   "execution_count": 10,
   "id": "3a6ddbd3",
   "metadata": {
    "execution": {
     "iopub.execute_input": "2022-12-12T14:41:35.670051Z",
     "iopub.status.busy": "2022-12-12T14:41:35.669288Z",
     "iopub.status.idle": "2022-12-12T14:41:35.671950Z",
     "shell.execute_reply": "2022-12-12T14:41:35.671317Z",
     "shell.execute_reply.started": "2022-12-12T14:40:50.031695Z"
    },
    "papermill": {
     "duration": 0.032426,
     "end_time": "2022-12-12T14:41:35.672107",
     "exception": false,
     "start_time": "2022-12-12T14:41:35.639681",
     "status": "completed"
    },
    "tags": []
   },
   "outputs": [],
   "source": [
    "# Transform data to follow assumption 2 regarding variance of the data\n",
    "from sklearn.preprocessing import StandardScaler\n",
    "scaler=StandardScaler()\n",
    "scaler.fit(X_train)\n",
    "\n",
    "# Scaling Train Set\n",
    "X_train = scaler.transform(X_train)\n",
    "# Scaling Test Set\n",
    "X_test = scaler.transform(X_test)"
   ]
  },
  {
   "cell_type": "code",
   "execution_count": 11,
   "id": "132e917b",
   "metadata": {
    "execution": {
     "iopub.execute_input": "2022-12-12T14:41:35.729020Z",
     "iopub.status.busy": "2022-12-12T14:41:35.728004Z",
     "iopub.status.idle": "2022-12-12T14:41:35.733329Z",
     "shell.execute_reply": "2022-12-12T14:41:35.733846Z",
     "shell.execute_reply.started": "2022-12-12T14:40:50.042612Z"
    },
    "papermill": {
     "duration": 0.039231,
     "end_time": "2022-12-12T14:41:35.734029",
     "exception": false,
     "start_time": "2022-12-12T14:41:35.694798",
     "status": "completed"
    },
    "tags": []
   },
   "outputs": [
    {
     "data": {
      "text/plain": [
       "LinearDiscriminantAnalysis()"
      ]
     },
     "execution_count": 11,
     "metadata": {},
     "output_type": "execute_result"
    }
   ],
   "source": [
    "lda_for_classification = LDA(shrinkage=None, solver='svd')\n",
    "lda_for_classification.fit(X_train, y_train)"
   ]
  },
  {
   "cell_type": "code",
   "execution_count": 12,
   "id": "6320665c",
   "metadata": {
    "execution": {
     "iopub.execute_input": "2022-12-12T14:41:35.784381Z",
     "iopub.status.busy": "2022-12-12T14:41:35.783420Z",
     "iopub.status.idle": "2022-12-12T14:41:35.798468Z",
     "shell.execute_reply": "2022-12-12T14:41:35.798993Z",
     "shell.execute_reply.started": "2022-12-12T14:40:50.064846Z"
    },
    "papermill": {
     "duration": 0.041389,
     "end_time": "2022-12-12T14:41:35.799194",
     "exception": false,
     "start_time": "2022-12-12T14:41:35.757805",
     "status": "completed"
    },
    "tags": []
   },
   "outputs": [
    {
     "name": "stdout",
     "output_type": "stream",
     "text": [
      "Training REPORT\n",
      "              precision    recall  f1-score   support\n",
      "\n",
      "      faible       1.00      1.00      1.00        15\n",
      "      moyene       1.00      0.93      0.97        15\n",
      "        fort       0.94      1.00      0.97        15\n",
      "\n",
      "    accuracy                           0.98        45\n",
      "   macro avg       0.98      0.98      0.98        45\n",
      "weighted avg       0.98      0.98      0.98        45\n",
      "\n",
      "Validation REPORT\n",
      "              precision    recall  f1-score   support\n",
      "\n",
      "      faible       1.00      1.00      1.00        35\n",
      "      moyene       0.94      0.97      0.96        35\n",
      "        fort       0.97      0.94      0.96        35\n",
      "\n",
      "    accuracy                           0.97       105\n",
      "   macro avg       0.97      0.97      0.97       105\n",
      "weighted avg       0.97      0.97      0.97       105\n",
      "\n"
     ]
    }
   ],
   "source": [
    "from sklearn.metrics import classification_report\n",
    "\n",
    "# Score Training Data Set\n",
    "y_true = y_train\n",
    "y_pred = lda_for_classification.predict(X_train)\n",
    "target_names = ['faible', 'moyene', 'fort']\n",
    "print('Training REPORT')\n",
    "print(classification_report(y_true, y_pred, target_names=target_names))\n",
    "\n",
    "# Score Validation Data Set\n",
    "y_true = y_test\n",
    "y_pred = lda_for_classification.predict(X_test)\n",
    "target_names = ['faible', 'moyene', 'fort']\n",
    "print('Validation REPORT')\n",
    "print(classification_report(y_true, y_pred, target_names=target_names))"
   ]
  },
  {
   "cell_type": "markdown",
   "id": "1c7ef4f5",
   "metadata": {
    "papermill": {
     "duration": 0.022617,
     "end_time": "2022-12-12T14:41:35.845053",
     "exception": false,
     "start_time": "2022-12-12T14:41:35.822436",
     "status": "completed"
    },
    "tags": []
   },
   "source": [
    "That's it we are done with the implementation of LDA as a classifier. We are able to classify the IRIS dataset and have high performance metrics"
   ]
  },
  {
   "cell_type": "markdown",
   "id": "8a0ef7d4",
   "metadata": {
    "papermill": {
     "duration": 0.022993,
     "end_time": "2022-12-12T14:41:35.891642",
     "exception": false,
     "start_time": "2022-12-12T14:41:35.868649",
     "status": "completed"
    },
    "tags": []
   },
   "source": [
    "## Conclusion\n",
    "In this notebook we covered LDA (Linear Discriminant Analysis). LDA is a dimensionality reduction technique which is can be also use to classify categories. As an EDA technique it tells us a lot about the complexity of our problem, and tells us which classes are most easily distinguishable and why.\n",
    "\n",
    "We are able to \n",
    "\n",
    "1) Implement LDA for Dimension Reduction. <br>\n",
    "2) Implement LDA for Classification task. <br>"
   ]
  }
 ],
 "metadata": {
  "kernelspec": {
   "display_name": "Python 3 (ipykernel)",
   "language": "python",
   "name": "python3"
  },
  "language_info": {
   "codemirror_mode": {
    "name": "ipython",
    "version": 3
   },
   "file_extension": ".py",
   "mimetype": "text/x-python",
   "name": "python",
   "nbconvert_exporter": "python",
   "pygments_lexer": "ipython3",
   "version": "3.9.12"
  },
  "papermill": {
   "default_parameters": {},
   "duration": 14.563743,
   "end_time": "2022-12-12T14:41:36.725311",
   "environment_variables": {},
   "exception": null,
   "input_path": "__notebook__.ipynb",
   "output_path": "__notebook__.ipynb",
   "parameters": {},
   "start_time": "2022-12-12T14:41:22.161568",
   "version": "2.3.3"
  }
 },
 "nbformat": 4,
 "nbformat_minor": 5
}
