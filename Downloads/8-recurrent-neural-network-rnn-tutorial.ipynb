{
 "cells": [
  {
   "cell_type": "code",
   "execution_count": 1,
   "metadata": {
    "_cell_guid": "b1076dfc-b9ad-4769-8c92-a6c4dae69d19",
    "_uuid": "8f2839f25d086af736a60e9eeb907d3b93b6e0e5"
   },
   "outputs": [
    {
     "name": "stdout",
     "output_type": "stream",
     "text": [
      "['international-airline-passengers', 'stockprice-test', 'stockprice-train']\n"
     ]
    }
   ],
   "source": [
    "#Problems\n",
    "\n",
    "\"\"\"\n",
    "How univariate time series can be re-organized to fit in a neural network framework.\n",
    "The differences between the standard feedforward neural network and an RNN.\n",
    "The graph representation of an RNN\n",
    "The data requirement for an RNN model\n",
    "\"\"\"\n",
    "# solution\n",
    "\"\"\"\n",
    "We will uses stock market data to help readers understand the property of serial connectivity. \n",
    "First, the stock price of today should be highly influenced by those of recent days. \n",
    "Second, the price of same day last year may still influence today’s price. \n",
    "\"\"\"\n",
    "import numpy as np # linear algebra\n",
    "import pandas as pd # data processing, CSV file I/O (e.g. pd.read_csv)\n",
    "import matplotlib.pyplot as plt"
   ]
  },
  {
   "cell_type": "markdown",
   "metadata": {},
   "source": [
    "<a id=\"4\"></a>\n",
    "**Importing and Preprocessind Data**"
   ]
  },
  {
   "cell_type": "markdown",
   "metadata": {},
   "source": [
    "<a id=\"5\"></a>\n",
    "**Loading Data:**"
   ]
  },
  {
   "cell_type": "code",
   "execution_count": 2,
   "metadata": {},
   "outputs": [],
   "source": [
    "dataset_train = pd.read_csv('../input/stockprice-train/Stock_Price_Train.csv')"
   ]
  },
  {
   "cell_type": "code",
   "execution_count": 3,
   "metadata": {},
   "outputs": [
    {
     "data": {
      "text/html": [
       "<div>\n",
       "<style scoped>\n",
       "    .dataframe tbody tr th:only-of-type {\n",
       "        vertical-align: middle;\n",
       "    }\n",
       "\n",
       "    .dataframe tbody tr th {\n",
       "        vertical-align: top;\n",
       "    }\n",
       "\n",
       "    .dataframe thead th {\n",
       "        text-align: right;\n",
       "    }\n",
       "</style>\n",
       "<table border=\"1\" class=\"dataframe\">\n",
       "  <thead>\n",
       "    <tr style=\"text-align: right;\">\n",
       "      <th></th>\n",
       "      <th>Date</th>\n",
       "      <th>Open</th>\n",
       "      <th>High</th>\n",
       "      <th>Low</th>\n",
       "      <th>Close</th>\n",
       "      <th>Volume</th>\n",
       "    </tr>\n",
       "  </thead>\n",
       "  <tbody>\n",
       "    <tr>\n",
       "      <th>0</th>\n",
       "      <td>1/3/2012</td>\n",
       "      <td>325.25</td>\n",
       "      <td>332.83</td>\n",
       "      <td>324.97</td>\n",
       "      <td>663.59</td>\n",
       "      <td>7,380,500</td>\n",
       "    </tr>\n",
       "    <tr>\n",
       "      <th>1</th>\n",
       "      <td>1/4/2012</td>\n",
       "      <td>331.27</td>\n",
       "      <td>333.87</td>\n",
       "      <td>329.08</td>\n",
       "      <td>666.45</td>\n",
       "      <td>5,749,400</td>\n",
       "    </tr>\n",
       "    <tr>\n",
       "      <th>2</th>\n",
       "      <td>1/5/2012</td>\n",
       "      <td>329.83</td>\n",
       "      <td>330.75</td>\n",
       "      <td>326.89</td>\n",
       "      <td>657.21</td>\n",
       "      <td>6,590,300</td>\n",
       "    </tr>\n",
       "    <tr>\n",
       "      <th>3</th>\n",
       "      <td>1/6/2012</td>\n",
       "      <td>328.34</td>\n",
       "      <td>328.77</td>\n",
       "      <td>323.68</td>\n",
       "      <td>648.24</td>\n",
       "      <td>5,405,900</td>\n",
       "    </tr>\n",
       "    <tr>\n",
       "      <th>4</th>\n",
       "      <td>1/9/2012</td>\n",
       "      <td>322.04</td>\n",
       "      <td>322.29</td>\n",
       "      <td>309.46</td>\n",
       "      <td>620.76</td>\n",
       "      <td>11,688,800</td>\n",
       "    </tr>\n",
       "  </tbody>\n",
       "</table>\n",
       "</div>"
      ],
      "text/plain": [
       "       Date    Open    High     Low   Close      Volume\n",
       "0  1/3/2012  325.25  332.83  324.97  663.59   7,380,500\n",
       "1  1/4/2012  331.27  333.87  329.08  666.45   5,749,400\n",
       "2  1/5/2012  329.83  330.75  326.89  657.21   6,590,300\n",
       "3  1/6/2012  328.34  328.77  323.68  648.24   5,405,900\n",
       "4  1/9/2012  322.04  322.29  309.46  620.76  11,688,800"
      ]
     },
     "execution_count": 3,
     "metadata": {},
     "output_type": "execute_result"
    }
   ],
   "source": [
    "dataset_train.head()"
   ]
  },
  {
   "cell_type": "code",
   "execution_count": 4,
   "metadata": {},
   "outputs": [
    {
     "data": {
      "text/plain": [
       "array([[325.25],\n",
       "       [331.27],\n",
       "       [329.83],\n",
       "       ...,\n",
       "       [793.7 ],\n",
       "       [783.33],\n",
       "       [782.75]])"
      ]
     },
     "execution_count": 4,
     "metadata": {},
     "output_type": "execute_result"
    }
   ],
   "source": [
    "#open'ı kullanıcaz sadece:\n",
    "train = dataset_train.loc[:, ['Open']].values #array'e çevirdik\n",
    "train"
   ]
  },
  {
   "cell_type": "markdown",
   "metadata": {},
   "source": [
    "<a id=\"6\"></a>\n",
    "**Feature Scaling:**"
   ]
  },
  {
   "cell_type": "code",
   "execution_count": 5,
   "metadata": {},
   "outputs": [
    {
     "data": {
      "text/plain": [
       "array([[0.08581368],\n",
       "       [0.09701243],\n",
       "       [0.09433366],\n",
       "       ...,\n",
       "       [0.95725128],\n",
       "       [0.93796041],\n",
       "       [0.93688146]])"
      ]
     },
     "execution_count": 5,
     "metadata": {},
     "output_type": "execute_result"
    }
   ],
   "source": [
    "from sklearn.preprocessing import MinMaxScaler #bununla, 0-1 arasına scale ettik\n",
    "scaler = MinMaxScaler(feature_range = (0, 1))\n",
    "train_scaled = scaler.fit_transform(train)\n",
    "train_scaled"
   ]
  },
  {
   "cell_type": "code",
   "execution_count": 6,
   "metadata": {},
   "outputs": [
    {
     "data": {
      "text/plain": [
       "[<matplotlib.lines.Line2D at 0x7f7d2dc7eb00>]"
      ]
     },
     "execution_count": 6,
     "metadata": {},
     "output_type": "execute_result"
    },
    {
     "data": {
      "image/png": "[encoded data removed]",
      "text/plain": [
       "<Figure size 432x288 with 1 Axes>"
      ]
     },
     "metadata": {
      "needs_background": "light"
     },
     "output_type": "display_data"
    }
   ],
   "source": [
    "plt.plot(train_scaled)"
   ]
  },
  {
   "cell_type": "markdown",
   "metadata": {},
   "source": [
    "<a id=\"7\"></a>\n",
    "**Create Data Structure:**"
   ]
  },
  {
   "cell_type": "code",
   "execution_count": 7,
   "metadata": {},
   "outputs": [],
   "source": [
    "#ilk 1-50 yi alıp X_train'e, 51. data point'i de y_train'e,\n",
    "#2-51'i alıp X_train'e, 52'yi y_train'e ...olacak şekilde data frame i oluşturuyoruz:\n",
    "X_train = []\n",
    "y_train = []\n",
    "timesteps = 50\n",
    "\n",
    "for i in range(timesteps, 1250):\n",
    "    X_train.append(train_scaled[i - timesteps:i, 0])\n",
    "    y_train.append(train_scaled[i, 0])\n",
    "    \n",
    "X_train, y_train = np.array(X_train), np.array(y_train)"
   ]
  },
  {
   "cell_type": "markdown",
   "metadata": {},
   "source": [
    "<a id=\"8\"></a>\n",
    "**Reshape:**"
   ]
  },
  {
   "cell_type": "code",
   "execution_count": 8,
   "metadata": {},
   "outputs": [],
   "source": [
    "#Reshaping:\n",
    "X_train = np.reshape(X_train, (X_train.shape[0], X_train.shape[1], 1))"
   ]
  },
  {
   "cell_type": "markdown",
   "metadata": {},
   "source": [
    "<a id=\"9\"></a>\n",
    "**Create RNN Model**"
   ]
  },
  {
   "cell_type": "code",
   "execution_count": 9,
   "metadata": {},
   "outputs": [
    {
     "name": "stderr",
     "output_type": "stream",
     "text": [
      "Using TensorFlow backend.\n"
     ]
    },
    {
     "name": "stdout",
     "output_type": "stream",
     "text": [
      "Epoch 1/100\n",
      "1200/1200 [==============================] - 3s 2ms/step - loss: 0.4067\n",
      "Epoch 2/100\n",
      "1200/1200 [==============================] - 2s 1ms/step - loss: 0.2268\n",
      "Epoch 3/100\n",
      "1200/1200 [==============================] - 2s 1ms/step - loss: 0.1891\n",
      "Epoch 4/100\n",
      "1200/1200 [==============================] - 1s 1ms/step - loss: 0.1516\n",
      "Epoch 5/100\n",
      "1200/1200 [==============================] - 1s 1ms/step - loss: 0.1142\n",
      "Epoch 6/100\n",
      "1200/1200 [==============================] - 1s 1ms/step - loss: 0.0883\n",
      "Epoch 7/100\n",
      "1200/1200 [==============================] - 2s 1ms/step - loss: 0.0824\n",
      "Epoch 8/100\n",
      "1200/1200 [==============================] - 2s 1ms/step - loss: 0.0606\n",
      "Epoch 9/100\n",
      "1200/1200 [==============================] - 1s 1ms/step - loss: 0.0600\n",
      "Epoch 10/100\n",
      "1200/1200 [==============================] - 2s 1ms/step - loss: 0.0494\n",
      "Epoch 11/100\n",
      "1200/1200 [==============================] - 1s 1ms/step - loss: 0.0440\n",
      "Epoch 12/100\n",
      "1200/1200 [==============================] - 1s 1ms/step - loss: 0.0357\n",
      "Epoch 13/100\n",
      "1200/1200 [==============================] - 1s 1ms/step - loss: 0.0334\n",
      "Epoch 14/100\n",
      "1200/1200 [==============================] - 1s 1ms/step - loss: 0.0309\n",
      "Epoch 15/100\n",
      "1200/1200 [==============================] - 2s 1ms/step - loss: 0.0307\n",
      "Epoch 16/100\n",
      "1200/1200 [==============================] - 1s 1ms/step - loss: 0.0259\n",
      "Epoch 17/100\n",
      "1200/1200 [==============================] - 1s 1ms/step - loss: 0.0252\n",
      "Epoch 18/100\n",
      "1200/1200 [==============================] - 2s 1ms/step - loss: 0.0194\n",
      "Epoch 19/100\n",
      "1200/1200 [==============================] - 1s 1ms/step - loss: 0.0217\n",
      "Epoch 20/100\n",
      "1200/1200 [==============================] - 1s 1ms/step - loss: 0.0183\n",
      "Epoch 21/100\n",
      "1200/1200 [==============================] - 1s 1ms/step - loss: 0.0165\n",
      "Epoch 22/100\n",
      "1200/1200 [==============================] - 2s 1ms/step - loss: 0.0158\n",
      "Epoch 23/100\n",
      "1200/1200 [==============================] - 2s 1ms/step - loss: 0.0143\n",
      "Epoch 24/100\n",
      "1200/1200 [==============================] - 2s 1ms/step - loss: 0.0139\n",
      "Epoch 25/100\n",
      "1200/1200 [==============================] - 2s 1ms/step - loss: 0.0118\n",
      "Epoch 26/100\n",
      "1200/1200 [==============================] - 2s 1ms/step - loss: 0.0123\n",
      "Epoch 27/100\n",
      "1200/1200 [==============================] - 2s 1ms/step - loss: 0.0126\n",
      "Epoch 28/100\n",
      "1200/1200 [==============================] - 2s 1ms/step - loss: 0.0109\n",
      "Epoch 29/100\n",
      "1200/1200 [==============================] - 2s 1ms/step - loss: 0.0104\n",
      "Epoch 30/100\n",
      "1200/1200 [==============================] - 1s 1ms/step - loss: 0.0097\n",
      "Epoch 31/100\n",
      "1200/1200 [==============================] - 1s 1ms/step - loss: 0.0095\n",
      "Epoch 32/100\n",
      "1200/1200 [==============================] - 1s 1ms/step - loss: 0.0090\n",
      "Epoch 33/100\n",
      "1200/1200 [==============================] - 1s 1ms/step - loss: 0.0087\n",
      "Epoch 34/100\n",
      "1200/1200 [==============================] - 1s 1ms/step - loss: 0.0074\n",
      "Epoch 35/100\n",
      "1200/1200 [==============================] - 1s 1ms/step - loss: 0.0073\n",
      "Epoch 36/100\n",
      "1200/1200 [==============================] - 1s 1ms/step - loss: 0.0071\n",
      "Epoch 37/100\n",
      "1200/1200 [==============================] - 1s 1ms/step - loss: 0.0071\n",
      "Epoch 38/100\n",
      "1200/1200 [==============================] - 1s 1ms/step - loss: 0.0074\n",
      "Epoch 39/100\n",
      "1200/1200 [==============================] - 1s 1ms/step - loss: 0.0069\n",
      "Epoch 40/100\n",
      "1200/1200 [==============================] - 1s 1ms/step - loss: 0.0063\n",
      "Epoch 41/100\n",
      "1200/1200 [==============================] - 1s 1ms/step - loss: 0.0065\n",
      "Epoch 42/100\n",
      "1200/1200 [==============================] - 1s 1ms/step - loss: 0.0061\n",
      "Epoch 43/100\n",
      "1200/1200 [==============================] - 1s 1ms/step - loss: 0.0055\n",
      "Epoch 44/100\n",
      "1200/1200 [==============================] - 1s 1ms/step - loss: 0.0056\n",
      "Epoch 45/100\n",
      "1200/1200 [==============================] - 1s 1ms/step - loss: 0.0054\n",
      "Epoch 46/100\n",
      "1200/1200 [==============================] - 1s 1ms/step - loss: 0.0048\n",
      "Epoch 47/100\n",
      "1200/1200 [==============================] - 1s 1ms/step - loss: 0.0051\n",
      "Epoch 48/100\n",
      "1200/1200 [==============================] - 2s 1ms/step - loss: 0.0048\n",
      "Epoch 49/100\n",
      "1200/1200 [==============================] - 2s 1ms/step - loss: 0.0044\n",
      "Epoch 50/100\n",
      "1200/1200 [==============================] - 1s 1ms/step - loss: 0.0048\n",
      "Epoch 51/100\n",
      "1200/1200 [==============================] - 1s 1ms/step - loss: 0.0043\n",
      "Epoch 52/100\n",
      "1200/1200 [==============================] - 1s 1ms/step - loss: 0.0044\n",
      "Epoch 53/100\n",
      "1200/1200 [==============================] - 1s 1ms/step - loss: 0.0041\n",
      "Epoch 54/100\n",
      "1200/1200 [==============================] - 1s 1ms/step - loss: 0.0037\n",
      "Epoch 55/100\n",
      "1200/1200 [==============================] - 1s 1ms/step - loss: 0.0037\n",
      "Epoch 56/100\n",
      "1200/1200 [==============================] - 1s 1ms/step - loss: 0.0035\n",
      "Epoch 57/100\n",
      "1200/1200 [==============================] - 1s 1ms/step - loss: 0.0039\n",
      "Epoch 58/100\n",
      "1200/1200 [==============================] - 1s 1ms/step - loss: 0.0039\n",
      "Epoch 59/100\n",
      "1200/1200 [==============================] - 1s 1ms/step - loss: 0.0039\n",
      "Epoch 60/100\n",
      "1200/1200 [==============================] - 1s 1ms/step - loss: 0.0038\n",
      "Epoch 61/100\n",
      "1200/1200 [==============================] - 1s 1ms/step - loss: 0.0038\n",
      "Epoch 62/100\n",
      "1200/1200 [==============================] - 1s 1ms/step - loss: 0.0033\n",
      "Epoch 63/100\n",
      "1200/1200 [==============================] - 1s 1ms/step - loss: 0.0033\n",
      "Epoch 64/100\n",
      "1200/1200 [==============================] - 1s 1ms/step - loss: 0.0031\n",
      "Epoch 65/100\n",
      "1200/1200 [==============================] - 1s 1ms/step - loss: 0.0032\n",
      "Epoch 66/100\n",
      "1200/1200 [==============================] - 1s 1ms/step - loss: 0.0032\n",
      "Epoch 67/100\n",
      "1200/1200 [==============================] - 1s 1ms/step - loss: 0.0035\n",
      "Epoch 68/100\n",
      "1200/1200 [==============================] - 1s 1ms/step - loss: 0.0030\n",
      "Epoch 69/100\n",
      "1200/1200 [==============================] - 2s 1ms/step - loss: 0.0034\n",
      "Epoch 70/100\n",
      "1200/1200 [==============================] - 1s 1ms/step - loss: 0.0032\n",
      "Epoch 71/100\n",
      "1200/1200 [==============================] - 1s 1ms/step - loss: 0.0030\n",
      "Epoch 72/100\n",
      "1200/1200 [==============================] - 1s 1ms/step - loss: 0.0033\n",
      "Epoch 73/100\n",
      "1200/1200 [==============================] - 1s 1ms/step - loss: 0.0031\n",
      "Epoch 74/100\n",
      "1200/1200 [==============================] - 1s 1ms/step - loss: 0.0030\n",
      "Epoch 75/100\n",
      "1200/1200 [==============================] - 1s 1ms/step - loss: 0.0028\n",
      "Epoch 76/100\n",
      "1200/1200 [==============================] - 1s 1ms/step - loss: 0.0027\n",
      "Epoch 77/100\n",
      "1200/1200 [==============================] - 1s 1ms/step - loss: 0.0028\n",
      "Epoch 78/100\n",
      "1200/1200 [==============================] - 1s 1ms/step - loss: 0.0027\n",
      "Epoch 79/100\n",
      "1200/1200 [==============================] - 1s 1ms/step - loss: 0.0025\n",
      "Epoch 80/100\n",
      "1200/1200 [==============================] - 1s 1ms/step - loss: 0.0026\n",
      "Epoch 81/100\n",
      "1200/1200 [==============================] - 1s 1ms/step - loss: 0.0025\n",
      "Epoch 82/100\n",
      "1200/1200 [==============================] - 2s 1ms/step - loss: 0.0026\n",
      "Epoch 83/100\n",
      "1200/1200 [==============================] - 1s 1ms/step - loss: 0.0025\n",
      "Epoch 84/100\n",
      "1200/1200 [==============================] - 1s 1ms/step - loss: 0.0027\n",
      "Epoch 85/100\n",
      "1200/1200 [==============================] - 1s 1ms/step - loss: 0.0023\n",
      "Epoch 86/100\n",
      "1200/1200 [==============================] - 1s 1ms/step - loss: 0.0024\n",
      "Epoch 87/100\n",
      "1200/1200 [==============================] - 1s 1ms/step - loss: 0.0025\n",
      "Epoch 88/100\n",
      "1200/1200 [==============================] - 1s 1ms/step - loss: 0.0024\n",
      "Epoch 89/100\n",
      "1200/1200 [==============================] - 1s 1ms/step - loss: 0.0030\n",
      "Epoch 90/100\n",
      "1200/1200 [==============================] - 1s 1ms/step - loss: 0.0023\n",
      "Epoch 91/100\n",
      "1200/1200 [==============================] - 1s 1ms/step - loss: 0.0022\n",
      "Epoch 92/100\n",
      "1200/1200 [==============================] - 1s 1ms/step - loss: 0.0023\n",
      "Epoch 93/100\n",
      "1200/1200 [==============================] - 1s 1ms/step - loss: 0.0022\n",
      "Epoch 94/100\n",
      "1200/1200 [==============================] - 1s 1ms/step - loss: 0.0023\n",
      "Epoch 95/100\n",
      "1200/1200 [==============================] - 1s 1ms/step - loss: 0.0021\n",
      "Epoch 96/100\n",
      "1200/1200 [==============================] - 1s 1ms/step - loss: 0.0024\n",
      "Epoch 97/100\n",
      "1200/1200 [==============================] - 1s 1ms/step - loss: 0.0020\n",
      "Epoch 98/100\n",
      "1200/1200 [==============================] - 1s 1ms/step - loss: 0.0024\n",
      "Epoch 99/100\n",
      "1200/1200 [==============================] - 1s 1ms/step - loss: 0.0021\n",
      "Epoch 100/100\n",
      "1200/1200 [==============================] - 1s 1ms/step - loss: 0.0023\n"
     ]
    },
    {
     "data": {
      "text/plain": [
       "<keras.callbacks.History at 0x7f7d19b06b00>"
      ]
     },
     "execution_count": 9,
     "metadata": {},
     "output_type": "execute_result"
    }
   ],
   "source": [
    "#import libraries and packages:\n",
    "from keras.models import Sequential\n",
    "from keras.layers import Dense\n",
    "from keras.layers import SimpleRNN\n",
    "from keras.layers import Dropout\n",
    "\n",
    "#Initialize RNN:\n",
    "regressor = Sequential()\n",
    "\n",
    "#Adding the first RNN layer and some Dropout regularization\n",
    "regressor.add(SimpleRNN(units = 50, activation='tanh', return_sequences=True, input_shape= (X_train.shape[1],1)))\n",
    "regressor.add(Dropout(0.2))\n",
    "\n",
    "#Adding the second RNN layer and some Dropout regularization\n",
    "regressor.add(SimpleRNN(units = 50, activation='tanh', return_sequences=True))\n",
    "regressor.add(Dropout(0.2))\n",
    "\n",
    "#Adding the third RNN layer and some Dropout regularization\n",
    "regressor.add(SimpleRNN(units = 50, activation='tanh', return_sequences=True))\n",
    "regressor.add(Dropout(0.2))\n",
    "\n",
    "#Adding the fourth RNN layer and some Dropout regularization\n",
    "regressor.add(SimpleRNN(units = 50))\n",
    "regressor.add(Dropout(0.2))\n",
    "\n",
    "#Adding the output layer\n",
    "regressor.add(Dense(units = 1))\n",
    "\n",
    "#Compile the RNN\n",
    "regressor.compile(optimizer='adam', loss='mean_squared_error')\n",
    "\n",
    "#Fitting the RNN to the Training set\n",
    "regressor.fit(X_train, y_train, epochs=100, batch_size=32)\n"
   ]
  },
  {
   "cell_type": "markdown",
   "metadata": {},
   "source": [
    "* Epochs artırılbilir\n",
    "* Batch size değiştirilebilir\n",
    "* Activation functionlar değiştirilebilir\n",
    "* Layer sayısı artırılabilir"
   ]
  },
  {
   "cell_type": "markdown",
   "metadata": {},
   "source": [
    "<a id=\"10\"></a>\n",
    "**Prediction and Visualization of RNN Model**"
   ]
  },
  {
   "cell_type": "code",
   "execution_count": 10,
   "metadata": {},
   "outputs": [
    {
     "data": {
      "text/html": [
       "<div>\n",
       "<style scoped>\n",
       "    .dataframe tbody tr th:only-of-type {\n",
       "        vertical-align: middle;\n",
       "    }\n",
       "\n",
       "    .dataframe tbody tr th {\n",
       "        vertical-align: top;\n",
       "    }\n",
       "\n",
       "    .dataframe thead th {\n",
       "        text-align: right;\n",
       "    }\n",
       "</style>\n",
       "<table border=\"1\" class=\"dataframe\">\n",
       "  <thead>\n",
       "    <tr style=\"text-align: right;\">\n",
       "      <th></th>\n",
       "      <th>Date</th>\n",
       "      <th>Open</th>\n",
       "      <th>High</th>\n",
       "      <th>Low</th>\n",
       "      <th>Close</th>\n",
       "      <th>Volume</th>\n",
       "    </tr>\n",
       "  </thead>\n",
       "  <tbody>\n",
       "    <tr>\n",
       "      <th>0</th>\n",
       "      <td>1/3/2017</td>\n",
       "      <td>778.81</td>\n",
       "      <td>789.63</td>\n",
       "      <td>775.80</td>\n",
       "      <td>786.14</td>\n",
       "      <td>1,657,300</td>\n",
       "    </tr>\n",
       "    <tr>\n",
       "      <th>1</th>\n",
       "      <td>1/4/2017</td>\n",
       "      <td>788.36</td>\n",
       "      <td>791.34</td>\n",
       "      <td>783.16</td>\n",
       "      <td>786.90</td>\n",
       "      <td>1,073,000</td>\n",
       "    </tr>\n",
       "    <tr>\n",
       "      <th>2</th>\n",
       "      <td>1/5/2017</td>\n",
       "      <td>786.08</td>\n",
       "      <td>794.48</td>\n",
       "      <td>785.02</td>\n",
       "      <td>794.02</td>\n",
       "      <td>1,335,200</td>\n",
       "    </tr>\n",
       "    <tr>\n",
       "      <th>3</th>\n",
       "      <td>1/6/2017</td>\n",
       "      <td>795.26</td>\n",
       "      <td>807.90</td>\n",
       "      <td>792.20</td>\n",
       "      <td>806.15</td>\n",
       "      <td>1,640,200</td>\n",
       "    </tr>\n",
       "    <tr>\n",
       "      <th>4</th>\n",
       "      <td>1/9/2017</td>\n",
       "      <td>806.40</td>\n",
       "      <td>809.97</td>\n",
       "      <td>802.83</td>\n",
       "      <td>806.65</td>\n",
       "      <td>1,272,400</td>\n",
       "    </tr>\n",
       "  </tbody>\n",
       "</table>\n",
       "</div>"
      ],
      "text/plain": [
       "       Date    Open    High     Low   Close     Volume\n",
       "0  1/3/2017  778.81  789.63  775.80  786.14  1,657,300\n",
       "1  1/4/2017  788.36  791.34  783.16  786.90  1,073,000\n",
       "2  1/5/2017  786.08  794.48  785.02  794.02  1,335,200\n",
       "3  1/6/2017  795.26  807.90  792.20  806.15  1,640,200\n",
       "4  1/9/2017  806.40  809.97  802.83  806.65  1,272,400"
      ]
     },
     "execution_count": 10,
     "metadata": {},
     "output_type": "execute_result"
    }
   ],
   "source": [
    "dataset_test = pd.read_csv('../input/stockprice-test/Stock_Price_Test.csv')\n",
    "dataset_test.head()"
   ]
  },
  {
   "cell_type": "code",
   "execution_count": 11,
   "metadata": {},
   "outputs": [
    {
     "data": {
      "text/plain": [
       "array([[778.81],\n",
       "       [788.36],\n",
       "       [786.08],\n",
       "       [795.26],\n",
       "       [806.4 ],\n",
       "       [807.86],\n",
       "       [805.  ],\n",
       "       [807.14],\n",
       "       [807.48],\n",
       "       [807.08],\n",
       "       [805.81],\n",
       "       [805.12],\n",
       "       [806.91],\n",
       "       [807.25],\n",
       "       [822.3 ],\n",
       "       [829.62],\n",
       "       [837.81],\n",
       "       [834.71],\n",
       "       [814.66],\n",
       "       [796.86]])"
      ]
     },
     "execution_count": 11,
     "metadata": {},
     "output_type": "execute_result"
    }
   ],
   "source": [
    "real_stock_price = dataset_test.loc[:, ['Open']].values\n",
    "real_stock_price"
   ]
  },
  {
   "cell_type": "code",
   "execution_count": 12,
   "metadata": {},
   "outputs": [
    {
     "data": {
      "text/plain": [
       "array([[0.97510976],\n",
       "       [0.95966962],\n",
       "       [0.97808617],\n",
       "       [1.        ],\n",
       "       [0.98076494],\n",
       "       [0.97083116],\n",
       "       [0.98450406],\n",
       "       [0.96054394],\n",
       "       [0.9371419 ],\n",
       "       [0.92841729],\n",
       "       [0.90804747],\n",
       "       [0.8771858 ],\n",
       "       [0.92153434],\n",
       "       [0.93809063],\n",
       "       [0.93165414],\n",
       "       [0.95254483],\n",
       "       [0.88812412],\n",
       "       [0.88637547],\n",
       "       [0.87032145],\n",
       "       [0.88563137],\n",
       "       [0.90743359],\n",
       "       [0.91571173],\n",
       "       [0.89941588],\n",
       "       [0.91805566],\n",
       "       [0.9089404 ],\n",
       "       [0.9024853 ],\n",
       "       [0.89456061],\n",
       "       [0.91600938],\n",
       "       [0.9132934 ],\n",
       "       [0.88979835],\n",
       "       [0.86589404],\n",
       "       [0.89030062],\n",
       "       [0.90335962],\n",
       "       [0.89642086],\n",
       "       [0.91777662],\n",
       "       [0.93176576],\n",
       "       [0.94114145],\n",
       "       [0.95762334],\n",
       "       [0.96413424],\n",
       "       [0.96402262],\n",
       "       [0.96971501],\n",
       "       [0.95077759],\n",
       "       [0.96294367],\n",
       "       [0.96123223],\n",
       "       [0.95475854],\n",
       "       [0.95204256],\n",
       "       [0.95163331],\n",
       "       [0.95725128],\n",
       "       [0.93796041],\n",
       "       [0.93688146],\n",
       "       [0.92955205],\n",
       "       [0.94731751],\n",
       "       [0.94307612],\n",
       "       [0.96015329],\n",
       "       [0.98087655],\n",
       "       [0.98359253],\n",
       "       [0.97827219],\n",
       "       [0.98225314],\n",
       "       [0.98288563],\n",
       "       [0.98214153],\n",
       "       [0.979779  ],\n",
       "       [0.97849542],\n",
       "       [0.98182528],\n",
       "       [0.98245777],\n",
       "       [1.01045465],\n",
       "       [1.02407173],\n",
       "       [1.03930724],\n",
       "       [1.03354044],\n",
       "       [0.99624228],\n",
       "       [0.9631297 ]])"
      ]
     },
     "execution_count": 12,
     "metadata": {},
     "output_type": "execute_result"
    }
   ],
   "source": [
    "#Getting the predicted stock price\n",
    "dataset_total = pd.concat((dataset_train['Open'], dataset_test['Open']), axis=0)\n",
    "inputs = dataset_total[len(dataset_total)-len(dataset_test) - timesteps:].values.reshape(-1,1)\n",
    "inputs = scaler.transform(inputs) #minmax scaler\n",
    "inputs"
   ]
  },
  {
   "cell_type": "code",
   "execution_count": 13,
   "metadata": {},
   "outputs": [],
   "source": [
    "X_test = []\n",
    "for i in range(timesteps, 70):\n",
    "    X_test.append(inputs[i-timesteps:i,0])\n",
    "X_test = np.array(X_test)\n",
    "X_test = np.reshape(X_test, (X_test.shape[0], X_test.shape[1], 1))\n",
    "predicted_stock_price = regressor.predict(X_test)\n",
    "predicted_stock_price = scaler.inverse_transform(predicted_stock_price)\n",
    "#inverse_transform ile, scale edildikten sonra predict edilen değerleri gerçek değer aralığına çekiyoruz"
   ]
  },
  {
   "cell_type": "code",
   "execution_count": 14,
   "metadata": {},
   "outputs": [
    {
     "data": {
      "image/png": "[encoded data removed]",
      "text/plain": [
       "<Figure size 432x288 with 1 Axes>"
      ]
     },
     "metadata": {
      "needs_background": "light"
     },
     "output_type": "display_data"
    }
   ],
   "source": [
    "plt.plot(real_stock_price, color='red', label='Real Google Stock Price')\n",
    "plt.plot(predicted_stock_price, color='blue', label='Predicted Google Stock Price')\n",
    "plt.title('Google Stock Price Prediction')\n",
    "plt.xlabel('Time')\n",
    "plt.ylabel('Google Stock Price')\n",
    "plt.legend()\n",
    "plt.show()"
   ]
  },
  {
   "cell_type": "markdown",
   "metadata": {},
   "source": [
    "<a id=\"13\"></a>\n",
    "**Loading Data**"
   ]
  },
  {
   "cell_type": "code",
   "execution_count": 15,
   "metadata": {},
   "outputs": [
    {
     "data": {
      "text/html": [
       "<div>\n",
       "<style scoped>\n",
       "    .dataframe tbody tr th:only-of-type {\n",
       "        vertical-align: middle;\n",
       "    }\n",
       "\n",
       "    .dataframe tbody tr th {\n",
       "        vertical-align: top;\n",
       "    }\n",
       "\n",
       "    .dataframe thead th {\n",
       "        text-align: right;\n",
       "    }\n",
       "</style>\n",
       "<table border=\"1\" class=\"dataframe\">\n",
       "  <thead>\n",
       "    <tr style=\"text-align: right;\">\n",
       "      <th></th>\n",
       "      <th>Month</th>\n",
       "      <th>International airline passengers: monthly totals in thousands. Jan 49 ? Dec 60</th>\n",
       "    </tr>\n",
       "  </thead>\n",
       "  <tbody>\n",
       "    <tr>\n",
       "      <th>0</th>\n",
       "      <td>1949-01</td>\n",
       "      <td>112.0</td>\n",
       "    </tr>\n",
       "    <tr>\n",
       "      <th>1</th>\n",
       "      <td>1949-02</td>\n",
       "      <td>118.0</td>\n",
       "    </tr>\n",
       "    <tr>\n",
       "      <th>2</th>\n",
       "      <td>1949-03</td>\n",
       "      <td>132.0</td>\n",
       "    </tr>\n",
       "    <tr>\n",
       "      <th>3</th>\n",
       "      <td>1949-04</td>\n",
       "      <td>129.0</td>\n",
       "    </tr>\n",
       "    <tr>\n",
       "      <th>4</th>\n",
       "      <td>1949-05</td>\n",
       "      <td>121.0</td>\n",
       "    </tr>\n",
       "  </tbody>\n",
       "</table>\n",
       "</div>"
      ],
      "text/plain": [
       "     Month  International airline passengers: monthly totals in thousands. Jan 49 ? Dec 60\n",
       "0  1949-01                                              112.0                             \n",
       "1  1949-02                                              118.0                             \n",
       "2  1949-03                                              132.0                             \n",
       "3  1949-04                                              129.0                             \n",
       "4  1949-05                                              121.0                             "
      ]
     },
     "execution_count": 15,
     "metadata": {},
     "output_type": "execute_result"
    }
   ],
   "source": [
    "data = pd.read_csv('../input/international-airline-passengers/international-airline-passengers.csv')\n",
    "data.head()"
   ]
  },
  {
   "cell_type": "code",
   "execution_count": 16,
   "metadata": {},
   "outputs": [
    {
     "data": {
      "image/png": "[encoded data removed]",
      "text/plain": [
       "<Figure size 432x288 with 1 Axes>"
      ]
     },
     "metadata": {
      "needs_background": "light"
     },
     "output_type": "display_data"
    }
   ],
   "source": [
    "dataset = data.iloc[:, 1].values\n",
    "plt.plot(dataset)\n",
    "plt.xlabel('time')\n",
    "plt.ylabel('number of passengers (in thousands)')\n",
    "plt.title('Passengers')\n",
    "plt.show()"
   ]
  },
  {
   "cell_type": "markdown",
   "metadata": {},
   "source": [
    "<a id=\"14\"></a>\n",
    "**Preprocessing Data**"
   ]
  },
  {
   "cell_type": "markdown",
   "metadata": {},
   "source": [
    "<a id=\"15\"></a>\n",
    "**Reshape:**"
   ]
  },
  {
   "cell_type": "code",
   "execution_count": 17,
   "metadata": {},
   "outputs": [
    {
     "data": {
      "text/plain": [
       "(145, 1)"
      ]
     },
     "execution_count": 17,
     "metadata": {},
     "output_type": "execute_result"
    }
   ],
   "source": [
    "dataset = dataset.reshape(-1,1) #(145, ) iken (145,1)e çevirdik\n",
    "dataset = dataset.astype('float32')\n",
    "dataset.shape"
   ]
  },
  {
   "cell_type": "markdown",
   "metadata": {},
   "source": [
    "<a id=\"16\"></a>\n",
    "**Scaling:**"
   ]
  },
  {
   "cell_type": "code",
   "execution_count": 18,
   "metadata": {},
   "outputs": [],
   "source": [
    "scaler = MinMaxScaler(feature_range= (0,1))\n",
    "dataset = scaler.fit_transform(dataset)"
   ]
  },
  {
   "cell_type": "markdown",
   "metadata": {},
   "source": [
    "<a id=\"17\"></a>\n",
    "**Train Test Split:**"
   ]
  },
  {
   "cell_type": "code",
   "execution_count": 19,
   "metadata": {},
   "outputs": [
    {
     "name": "stdout",
     "output_type": "stream",
     "text": [
      "train size: 72, test size: 73\n"
     ]
    }
   ],
   "source": [
    "train_size = int(len(dataset)*0.5)\n",
    "test_size = len(dataset)- train_size\n",
    "\n",
    "train = dataset[0:train_size, :]\n",
    "test = dataset[train_size:len(dataset), :]\n",
    "\n",
    "print('train size: {}, test size: {}'.format(len(train), len(test)))"
   ]
  },
  {
   "cell_type": "code",
   "execution_count": 20,
   "metadata": {},
   "outputs": [],
   "source": [
    "dataX = []\n",
    "datay = []\n",
    "timestemp = 10\n",
    "\n",
    "for i in range(len(train)- timestemp -1):\n",
    "    a = train[i:(i+timestemp), 0]\n",
    "    dataX.append(a)\n",
    "    datay.append(train[i + timestemp, 0])\n",
    "\n",
    "    \n",
    "trainX, trainy = np.array(dataX), np.array(datay)"
   ]
  },
  {
   "cell_type": "code",
   "execution_count": 21,
   "metadata": {},
   "outputs": [],
   "source": [
    "dataX = []\n",
    "datay = []\n",
    "for i in range(len(test)- timestemp -1):\n",
    "    a = test[i:(i+timestemp), 0]\n",
    "    dataX.append(a)\n",
    "    datay.append(test[i + timestemp, 0])\n",
    "\n",
    "    \n",
    "testX, testy = np.array(dataX), np.array(datay)"
   ]
  },
  {
   "cell_type": "code",
   "execution_count": 22,
   "metadata": {},
   "outputs": [
    {
     "data": {
      "text/plain": [
       "(61, 10)"
      ]
     },
     "execution_count": 22,
     "metadata": {},
     "output_type": "execute_result"
    }
   ],
   "source": [
    "trainX.shape"
   ]
  },
  {
   "cell_type": "code",
   "execution_count": 23,
   "metadata": {},
   "outputs": [],
   "source": [
    "trainX = np.reshape(trainX, (trainX.shape[0],1,  trainX.shape[1]))\n",
    "testX = np.reshape(testX, (testX.shape[0],1,  testX.shape[1]))"
   ]
  },
  {
   "cell_type": "code",
   "execution_count": 24,
   "metadata": {},
   "outputs": [
    {
     "data": {
      "text/plain": [
       "(61, 1, 10)"
      ]
     },
     "execution_count": 24,
     "metadata": {},
     "output_type": "execute_result"
    }
   ],
   "source": [
    "trainX.shape"
   ]
  },
  {
   "cell_type": "markdown",
   "metadata": {},
   "source": [
    "<a id=\"18\"></a>\n",
    "**Create LSTM Model**"
   ]
  },
  {
   "cell_type": "code",
   "execution_count": 25,
   "metadata": {},
   "outputs": [],
   "source": [
    "from keras.models import Sequential\n",
    "from keras.layers import Dense\n",
    "from keras.layers import LSTM\n",
    "from sklearn.preprocessing import MinMaxScaler\n",
    "from sklearn.metrics import mean_squared_error"
   ]
  },
  {
   "cell_type": "code",
   "execution_count": 26,
   "metadata": {},
   "outputs": [
    {
     "name": "stdout",
     "output_type": "stream",
     "text": [
      "Epoch 1/50\n",
      "61/61 [==============================] - 1s 18ms/step - loss: 0.0114\n",
      "Epoch 2/50\n",
      "61/61 [==============================] - 0s 2ms/step - loss: 0.0039\n",
      "Epoch 3/50\n",
      "61/61 [==============================] - 0s 2ms/step - loss: 0.0034\n",
      "Epoch 4/50\n",
      "61/61 [==============================] - 0s 2ms/step - loss: 0.0032\n",
      "Epoch 5/50\n",
      "61/61 [==============================] - 0s 2ms/step - loss: 0.0031\n",
      "Epoch 6/50\n",
      "61/61 [==============================] - 0s 2ms/step - loss: 0.0030\n",
      "Epoch 7/50\n",
      "61/61 [==============================] - 0s 2ms/step - loss: 0.0028\n",
      "Epoch 8/50\n",
      "61/61 [==============================] - 0s 2ms/step - loss: 0.0027\n",
      "Epoch 9/50\n",
      "61/61 [==============================] - 0s 2ms/step - loss: 0.0025\n",
      "Epoch 10/50\n",
      "61/61 [==============================] - 0s 2ms/step - loss: 0.0026\n",
      "Epoch 11/50\n",
      "61/61 [==============================] - 0s 2ms/step - loss: 0.0024\n",
      "Epoch 12/50\n",
      "61/61 [==============================] - 0s 2ms/step - loss: 0.0024\n",
      "Epoch 13/50\n",
      "61/61 [==============================] - 0s 2ms/step - loss: 0.0022\n",
      "Epoch 14/50\n",
      "61/61 [==============================] - 0s 2ms/step - loss: 0.0021\n",
      "Epoch 15/50\n",
      "61/61 [==============================] - 0s 2ms/step - loss: 0.0021\n",
      "Epoch 16/50\n",
      "61/61 [==============================] - 0s 2ms/step - loss: 0.0020\n",
      "Epoch 17/50\n",
      "61/61 [==============================] - 0s 2ms/step - loss: 0.0019\n",
      "Epoch 18/50\n",
      "61/61 [==============================] - 0s 2ms/step - loss: 0.0020\n",
      "Epoch 19/50\n",
      "61/61 [==============================] - 0s 2ms/step - loss: 0.0018\n",
      "Epoch 20/50\n",
      "61/61 [==============================] - 0s 2ms/step - loss: 0.0017\n",
      "Epoch 21/50\n",
      "61/61 [==============================] - 0s 2ms/step - loss: 0.0017\n",
      "Epoch 22/50\n",
      "61/61 [==============================] - 0s 2ms/step - loss: 0.0016\n",
      "Epoch 23/50\n",
      "61/61 [==============================] - 0s 2ms/step - loss: 0.0015\n",
      "Epoch 24/50\n",
      "61/61 [==============================] - 0s 2ms/step - loss: 0.0016\n",
      "Epoch 25/50\n",
      "61/61 [==============================] - 0s 2ms/step - loss: 0.0015\n",
      "Epoch 26/50\n",
      "61/61 [==============================] - 0s 2ms/step - loss: 0.0016\n",
      "Epoch 27/50\n",
      "61/61 [==============================] - 0s 2ms/step - loss: 0.0014\n",
      "Epoch 28/50\n",
      "61/61 [==============================] - 0s 2ms/step - loss: 0.0014\n",
      "Epoch 29/50\n",
      "61/61 [==============================] - 0s 2ms/step - loss: 0.0013\n",
      "Epoch 30/50\n",
      "61/61 [==============================] - 0s 2ms/step - loss: 0.0013\n",
      "Epoch 31/50\n",
      "61/61 [==============================] - 0s 2ms/step - loss: 0.0013\n",
      "Epoch 32/50\n",
      "61/61 [==============================] - 0s 2ms/step - loss: 0.0013\n",
      "Epoch 33/50\n",
      "61/61 [==============================] - 0s 2ms/step - loss: 0.0013\n",
      "Epoch 34/50\n",
      "61/61 [==============================] - 0s 2ms/step - loss: 0.0013\n",
      "Epoch 35/50\n",
      "61/61 [==============================] - 0s 2ms/step - loss: 0.0012\n",
      "Epoch 36/50\n",
      "61/61 [==============================] - 0s 2ms/step - loss: 0.0012\n",
      "Epoch 37/50\n",
      "61/61 [==============================] - 0s 2ms/step - loss: 0.0012\n",
      "Epoch 38/50\n",
      "61/61 [==============================] - 0s 2ms/step - loss: 0.0012\n",
      "Epoch 39/50\n",
      "61/61 [==============================] - 0s 2ms/step - loss: 0.0011\n",
      "Epoch 40/50\n",
      "61/61 [==============================] - 0s 2ms/step - loss: 0.0011\n",
      "Epoch 41/50\n",
      "61/61 [==============================] - 0s 2ms/step - loss: 0.0012\n",
      "Epoch 42/50\n",
      "61/61 [==============================] - 0s 2ms/step - loss: 0.0012\n",
      "Epoch 43/50\n",
      "61/61 [==============================] - 0s 2ms/step - loss: 0.0011\n",
      "Epoch 44/50\n",
      "61/61 [==============================] - 0s 2ms/step - loss: 0.0011\n",
      "Epoch 45/50\n",
      "61/61 [==============================] - 0s 2ms/step - loss: 0.0011\n",
      "Epoch 46/50\n",
      "61/61 [==============================] - 0s 2ms/step - loss: 0.0012\n",
      "Epoch 47/50\n",
      "61/61 [==============================] - 0s 2ms/step - loss: 0.0011\n",
      "Epoch 48/50\n",
      "61/61 [==============================] - 0s 2ms/step - loss: 0.0012\n",
      "Epoch 49/50\n",
      "61/61 [==============================] - 0s 2ms/step - loss: 0.0011\n",
      "Epoch 50/50\n",
      "61/61 [==============================] - 0s 2ms/step - loss: 0.0011\n"
     ]
    },
    {
     "data": {
      "text/plain": [
       "<keras.callbacks.History at 0x7f7d1059cbe0>"
      ]
     },
     "execution_count": 26,
     "metadata": {},
     "output_type": "execute_result"
    }
   ],
   "source": [
    "# model\n",
    "model = Sequential()\n",
    "model.add(LSTM(10, input_shape=(1, timestemp))) # 10 lstm neuron(block)\n",
    "model.add(Dense(1))\n",
    "model.compile(loss='mean_squared_error', optimizer='adam')\n",
    "model.fit(trainX, trainy, epochs=50, batch_size=1)"
   ]
  },
  {
   "cell_type": "markdown",
   "metadata": {},
   "source": [
    "<a id=\"19\"></a>\n",
    "**Prediction**"
   ]
  },
  {
   "cell_type": "code",
   "execution_count": 27,
   "metadata": {},
   "outputs": [
    {
     "name": "stdout",
     "output_type": "stream",
     "text": [
      "Train Score: 16.48 RMSE\n",
      "Test Score: 51.11 RMSE\n"
     ]
    }
   ],
   "source": [
    "#make predictions\n",
    "trainPredict = model.predict(trainX)\n",
    "testPredict = model.predict(testX)\n",
    "\n",
    "# invert predictions\n",
    "trainPredict = scaler.inverse_transform(trainPredict)\n",
    "trainy = scaler.inverse_transform([trainy])\n",
    "testPredict = scaler.inverse_transform(testPredict)\n",
    "testy = scaler.inverse_transform([testy])\n",
    "\n",
    "import math\n",
    "# calculate root mean squared error\n",
    "trainScore = math.sqrt(mean_squared_error(trainy[0], trainPredict[:,0]))\n",
    "print('Train Score: %.2f RMSE' % (trainScore))\n",
    "testScore = math.sqrt(mean_squared_error(testy[0], testPredict[:,0]))\n",
    "print('Test Score: %.2f RMSE' % (testScore))"
   ]
  },
  {
   "cell_type": "code",
   "execution_count": 28,
   "metadata": {},
   "outputs": [
    {
     "data": {
      "image/png": "[encoded data removed]",
      "text/plain": [
       "<Figure size 432x288 with 1 Axes>"
      ]
     },
     "metadata": {
      "needs_background": "light"
     },
     "output_type": "display_data"
    }
   ],
   "source": [
    "# shifting train\n",
    "trainPredictPlot = np.empty_like(dataset)\n",
    "trainPredictPlot[:, :] = np.nan\n",
    "trainPredictPlot[timestemp:len(trainPredict)+timestemp, :] = trainPredict\n",
    "# shifting test predictions for plotting\n",
    "testPredictPlot = np.empty_like(dataset)\n",
    "testPredictPlot[:, :] = np.nan\n",
    "testPredictPlot[len(trainPredict)+(timestemp*2)+1:len(dataset)-1, :] = testPredict\n",
    "# plot baseline and predictions\n",
    "plt.plot(scaler.inverse_transform(dataset))\n",
    "plt.plot(trainPredictPlot)\n",
    "plt.plot(testPredictPlot)\n",
    "plt.show()"
   ]
  }
 ],
 "metadata": {
  "kernelspec": {
   "display_name": "Python 3 (ipykernel)",
   "language": "python",
   "name": "python3"
  },
  "language_info": {
   "codemirror_mode": {
    "name": "ipython",
    "version": 3
   },
   "file_extension": ".py",
   "mimetype": "text/x-python",
   "name": "python",
   "nbconvert_exporter": "python",
   "pygments_lexer": "ipython3",
   "version": "3.9.12"
  }
 },
 "nbformat": 4,
 "nbformat_minor": 1
}
