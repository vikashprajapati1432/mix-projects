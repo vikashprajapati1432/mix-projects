{
 "cells": [
  {
   "cell_type": "markdown",
   "metadata": {
    "_cell_guid": "284b0c1f-6cd0-4f6d-96ec-ebbc5e25b25a",
    "_uuid": "b1a7646ca287cb7bc3cbf3ccbb617b9ce0cbea26"
   },
   "source": [
    "# Tensorflow Basics"
   ]
  },
  {
   "cell_type": "code",
   "execution_count": 1,
   "metadata": {
    "_cell_guid": "b1076dfc-b9ad-4769-8c92-a6c4dae69d19",
    "_uuid": "8f2839f25d086af736a60e9eeb907d3b93b6e0e5",
    "collapsed": true
   },
   "outputs": [],
   "source": [
    "import warnings\n",
    "warnings.filterwarnings(\"ignore\")\n",
    "\n",
    "import numpy as np\n",
    "import tensorflow as tf\n",
    "import matplotlib.pyplot as plt"
   ]
  },
  {
   "cell_type": "markdown",
   "metadata": {
    "_cell_guid": "acdc20e3-8eb5-42fc-9a26-21a7c42c38db",
    "_uuid": "7fcbd473d9c5e60515d18e23b60480fe2336fbfc"
   },
   "source": [
    "We have initialized two matrix constants m1 and m2. dot_operation stores the result of **matmul** (matrix multiplication) of m1 and m2.\n",
    "**tf.constant()** creates a constant Tensor.\n",
    "**tf.matmul()** returns a Tensor of same type as m1 and m2."
   ]
  },
  {
   "cell_type": "code",
   "execution_count": 2,
   "metadata": {
    "_cell_guid": "79c7e3d0-c299-4dcb-8224-4455121ee9b0",
    "_uuid": "d629ff2d2480ee46fbb7e2d37f6b5fab8052498a",
    "collapsed": true
   },
   "outputs": [],
   "source": [
    "m1 = tf.constant([[2,2]])\n",
    "m2 = tf.constant([[3],[3]])\n",
    "dot_operation = tf.matmul(m1,m2)"
   ]
  },
  {
   "cell_type": "markdown",
   "metadata": {
    "_cell_guid": "79e260a3-f123-4496-bdb7-65514bdb7eff",
    "_uuid": "2e0fbf3a8074bd1069f0f836b35548cf9e6d4e67"
   },
   "source": [
    "The result won't get printed directly."
   ]
  },
  {
   "cell_type": "code",
   "execution_count": 3,
   "metadata": {
    "_cell_guid": "e4601913-c65d-42fd-9194-893abb42f7d9",
    "_uuid": "db97d2beeade6575e2fdf6226bfe87008fb7ef1a"
   },
   "outputs": [],
   "source": [
    "print(dot_operation)"
   ]
  },
  {
   "cell_type": "markdown",
   "metadata": {
    "_cell_guid": "e78a5692-8ada-4bb9-8d95-d7cb72ae12e5",
    "_uuid": "46f7f23c487e1c8c58de3ce751409c371f2ddf96"
   },
   "source": [
    "We need to create session and run the operation.\n",
    "\n",
    "## What is a session in TensorFlow?\n",
    "A Session object encapsulates the environment in which Operation objects are executed, and Tensor objects are evaluated."
   ]
  },
  {
   "cell_type": "code",
   "execution_count": 4,
   "metadata": {
    "_cell_guid": "9f575a05-7836-4f25-a3cc-2b7b735f56f8",
    "_uuid": "b6a29c71b9258c0e679683f3c78f81a78e6d56d7"
   },
   "outputs": [],
   "source": [
    "sess = tf.Session()\n",
    "result = sess.run(dot_operation)\n",
    "print(result)\n",
    "sess.close()"
   ]
  },
  {
   "cell_type": "code",
   "execution_count": 5,
   "metadata": {
    "_cell_guid": "c9a74e74-56eb-4625-aa11-fd83782bd4e7",
    "_uuid": "735c6fcb6eafa3c95c91c53ec4925cf8c9d43b59"
   },
   "outputs": [],
   "source": [
    "# Alternate way to run\n",
    "with tf.Session() as sess:\n",
    "    result_ = sess.run(dot_operation)\n",
    "    print(result_)"
   ]
  },
  {
   "cell_type": "markdown",
   "metadata": {
    "_cell_guid": "ae7a9795-04ea-4c3b-b8ea-979bf828d928",
    "_uuid": "112cbf1ac8ffa26061a8a68701de6f14dc7e747e"
   },
   "source": [
    "## Variables\n",
    "\n",
    "A TensorFlow variable is a way to represent shared, persistent state manipulated by your program.\n",
    "A **tf.Variable** exsts outside the context of a single session.run call. *This happens even for the variables defined in the session.*\n",
    "**sess.run(tf.global_variables_initializer())** initializes all global variables."
   ]
  },
  {
   "cell_type": "code",
   "execution_count": 6,
   "metadata": {
    "_cell_guid": "7b43fad4-8c08-4559-8f96-4f143774a176",
    "_uuid": "b0c3c39b879fe991e96ae42c54c2f8232e40da73",
    "collapsed": true
   },
   "outputs": [],
   "source": [
    "var = tf.Variable(8)"
   ]
  },
  {
   "cell_type": "code",
   "execution_count": 7,
   "metadata": {
    "_cell_guid": "403e1145-b6f5-4cd0-bdd8-73cd7bba8844",
    "_uuid": "3c31ff7f84b275a0ec8989fe98ed3f54d2eb9112",
    "collapsed": true
   },
   "outputs": [],
   "source": [
    "add_operation = tf.add(var, 1)          # returns var + 1 of same type as var\n",
    "update_operation = tf.assign(var, add_operation)      # var will hold new value add_operation"
   ]
  },
  {
   "cell_type": "code",
   "execution_count": 8,
   "metadata": {
    "_cell_guid": "95c64bcb-671d-4713-bfce-a734472bd09b",
    "_uuid": "f7cbd2431c046113842efc6dc3c376b6d3f6bc49"
   },
   "outputs": [],
   "source": [
    "with tf.Session() as sess:\n",
    "    sess.run(tf.global_variables_initializer())\n",
    "    for _ in range(3):\n",
    "        sess.run(update_operation)\n",
    "        print(sess.run(var))"
   ]
  },
  {
   "cell_type": "markdown",
   "metadata": {
    "_cell_guid": "8fbe5ae6-46f4-49d4-acce-3c2d3578353f",
    "_uuid": "1b1f9e8d0ef3eb596396893a1710c70c00489f0a"
   },
   "source": [
    "## Placeholder\n",
    "\n",
    "A placeholder is a variable to which we assign data to a later date. It allows us to create out operations and buid our computation graph, without needing the data.\n",
    "In TensorFlow terms, we feed the data into the graph through these placeholders."
   ]
  },
  {
   "cell_type": "code",
   "execution_count": 9,
   "metadata": {
    "_cell_guid": "a54560c4-cc70-4e51-a72c-656771844e4f",
    "_uuid": "2d0b8653f2b27e881f3b83da90cb639344215707",
    "collapsed": true
   },
   "outputs": [],
   "source": [
    "x1 = tf.placeholder(dtype=tf.float32, shape=None)\n",
    "y1 = tf.placeholder(dtype=tf.float32, shape=None)\n",
    "z1 = x1 + y1\n",
    "\n",
    "x2 = tf.placeholder(dtype=tf.float32, shape=[2,1])\n",
    "y2 = tf.placeholder(dtype=tf.float32, shape=[1,2])\n",
    "z2 = tf.matmul(x2, y2)"
   ]
  },
  {
   "cell_type": "code",
   "execution_count": 10,
   "metadata": {
    "_cell_guid": "291e3d65-3f5a-4e64-b6d6-c3efdfc06777",
    "_uuid": "ed53619729a4c4898586c905ad8af789be281557"
   },
   "outputs": [],
   "source": [
    "with tf.Session() as sess:\n",
    "    # running one operation\n",
    "    z1_value = sess.run(z1, feed_dict={x1: 5, y1: 6})\n",
    "    print(z1_value)\n",
    "    \n",
    "    # running two operations at once\n",
    "    z1_value, z2_value = sess.run(\n",
    "    [z1, z2],\n",
    "    feed_dict = {\n",
    "        x1:1, y1:2,\n",
    "        x2:[[2],[3]], y2:[[3,3]]\n",
    "    })\n",
    "    print(z1_value)\n",
    "    print(z2_value)"
   ]
  },
  {
   "cell_type": "markdown",
   "metadata": {
    "_cell_guid": "2c16fda2-3ed9-425f-b892-48ecc7e85b20",
    "_uuid": "c6cdb7fdcf53230a899daf64f48a11416c60fd33"
   },
   "source": [
    "## Activation Function\n",
    "\n",
    "Activation function scales output of a node given an input or set of input."
   ]
  },
  {
   "cell_type": "markdown",
   "metadata": {
    "_cell_guid": "db88da5e-5ee9-44fb-9bd4-6947c29ad364",
    "_uuid": "cd27725ec7c392f9608588ed89efd072c91bd0de"
   },
   "source": [
    "Four Activation functions are defined below."
   ]
  },
  {
   "cell_type": "code",
   "execution_count": 11,
   "metadata": {
    "_cell_guid": "48a7b903-d67c-4ace-8778-eb9754a20236",
    "_uuid": "59ad8ad38de225e48ccd3381177010f1d0e22c88",
    "collapsed": true
   },
   "outputs": [],
   "source": [
    "x = np.linspace(-5,5,200)\n",
    "\n",
    "y_relu = tf.nn.relu(x)\n",
    "y_sigmoid = tf.nn.sigmoid(x)\n",
    "y_tanh = tf.nn.tanh(x)\n",
    "y_softplus = tf.nn.softplus(x)"
   ]
  },
  {
   "cell_type": "code",
   "execution_count": 12,
   "metadata": {
    "_cell_guid": "21b55ed7-254d-4808-8c80-2a1b9dd0b2da",
    "_uuid": "35d9816f6d66ae75f06e8db21acdad6fba96e1e0",
    "collapsed": true
   },
   "outputs": [],
   "source": [
    "sess = tf.Session()\n",
    "y_relu, y_sigmoid, y_tanh, y_softplus = sess.run([y_relu, y_sigmoid, y_tanh, y_softplus])"
   ]
  },
  {
   "cell_type": "code",
   "execution_count": 13,
   "metadata": {
    "_cell_guid": "6bec3704-5d46-4c93-9f54-b1c74583cac5",
    "_uuid": "36cbe392f86b6d7fead1733e238b637fc990c46d"
   },
   "outputs": [],
   "source": [
    "plt.figure(1, figsize=(8, 6))\n",
    "plt.subplot(221)\n",
    "plt.plot(x, y_relu, c='red', label='relu')\n",
    "plt.ylim((-1, 5))\n",
    "plt.legend(loc='best')\n",
    "\n",
    "plt.subplot(222)\n",
    "plt.plot(x, y_sigmoid, c='red', label='sigmoid')\n",
    "plt.ylim((-0.2, 1.2))\n",
    "plt.legend(loc='best')\n",
    "\n",
    "plt.subplot(223)\n",
    "plt.plot(x, y_tanh, c='red', label='tanh')\n",
    "plt.ylim((-1.2, 1.2))\n",
    "plt.legend(loc='best')\n",
    "\n",
    "plt.subplot(224)\n",
    "plt.plot(x, y_softplus, c='red', label='softplus')\n",
    "plt.ylim((-0.2, 6))\n",
    "plt.legend(loc='best')\n",
    "\n",
    "plt.show()"
   ]
  },
  {
   "cell_type": "markdown",
   "metadata": {
    "_cell_guid": "51959817-78a8-41ed-a6fa-0958ea20258a",
    "_uuid": "ad942d9eee7761e8c96183530711fd2e57879079"
   },
   "source": [
    "# Tensorflow Networks"
   ]
  },
  {
   "cell_type": "markdown",
   "metadata": {
    "_cell_guid": "bb26c2ca-6563-4635-a84f-94972814f8a6",
    "_uuid": "d5a8ae4e1bf2341e4799093a80f568e24dedb91e"
   },
   "source": [
    "## Regression\n",
    "We will make a dummy data for feeding in the model. The NN will be trained to predict from the dummy data."
   ]
  },
  {
   "cell_type": "code",
   "execution_count": 14,
   "metadata": {
    "_cell_guid": "af6ecad8-903b-4cde-8f85-58ac64cbc07d",
    "_uuid": "7ed12ffba418030429d1042d91c24486d34b00df"
   },
   "outputs": [],
   "source": [
    "tf.set_random_seed(1)\n",
    "np.random.seed(1)\n",
    "\n",
    "# data initialization\n",
    "# linspace creates a list with continous intervals of range -1 to 1\n",
    "# newaxis increases the dimension i.e. changes (1,100) to (100,1)\n",
    "x = np.linspace(-1,1,100)[:, np.newaxis]\n",
    "noise = np.random.normal(0,0.1,size=x.shape)\n",
    "y = np.power(x,2) + noise\n",
    "\n",
    "# plot the data\n",
    "plt.scatter(x,y)\n",
    "plt.show()"
   ]
  },
  {
   "cell_type": "code",
   "execution_count": 15,
   "metadata": {
    "_cell_guid": "c13bd992-e05b-492d-ac2f-0ad6366294b7",
    "_uuid": "2a8b00e763aa23d10566fb22bb1e4788cb727817",
    "collapsed": true
   },
   "outputs": [],
   "source": [
    "tf_x = tf.placeholder(tf.float32, x.shape)\n",
    "tf_y = tf.placeholder(tf.float32, y.shape)"
   ]
  },
  {
   "cell_type": "markdown",
   "metadata": {
    "_cell_guid": "1344348d-3f05-460a-aad0-3a9dfdf9c005",
    "_uuid": "7d52cfaa736d9fee8c97ceaa104f0917ac562e3b"
   },
   "source": [
    "### Initializing layers in Neural Network"
   ]
  },
  {
   "cell_type": "code",
   "execution_count": 16,
   "metadata": {
    "_cell_guid": "f470dc27-5f31-4750-b1aa-2392cfdd65c4",
    "_uuid": "ed0ecc5a3078d77da611917d5fcda16bf05f2946",
    "collapsed": true
   },
   "outputs": [],
   "source": [
    "# hidden layer\n",
    "l1 = tf.layers.dense(tf_x,10,tf.nn.relu)\n",
    "# output layer\n",
    "output = tf.layers.dense(l1, 1)\n",
    "\n",
    "# compute cost\n",
    "loss = tf.losses.mean_squared_error(tf_y, output)\n",
    "optimizer = tf.train.GradientDescentOptimizer(learning_rate = 0.5)\n",
    "train_op = optimizer.minimize(loss)"
   ]
  },
  {
   "cell_type": "code",
   "execution_count": 17,
   "metadata": {
    "_cell_guid": "3aa97912-aa83-4d0f-a0f5-1c6004d43ea0",
    "_uuid": "e113904e398bc44949f63306bb65a8e2c9bf4f21"
   },
   "outputs": [],
   "source": [
    "sess = tf.Session()\n",
    "sess.run(tf.global_variables_initializer())\n",
    "\n",
    "plt.ion()\n",
    "\n",
    "for step in range(100):\n",
    "    _, l, pred = sess.run([train_op, loss, output], {tf_x: x, tf_y: y})\n",
    "    if step%5 == 0:\n",
    "        plt.cla()\n",
    "        plt.scatter(x,y)\n",
    "        plt.plot(x, pred, 'r-', lw=5)\n",
    "        plt.text(0.5, 0, 'loss=%.4f' % l, fontdict = {'size': 20, 'color':'red'})\n",
    "        plt.pause(0.1)\n",
    "        \n",
    "plt.ioff()\n",
    "plt.show()"
   ]
  },
  {
   "cell_type": "markdown",
   "metadata": {
    "_cell_guid": "88717567-d55d-417f-a15b-d85c4a58d044",
    "_uuid": "123e7b020f7cee28a313afd0696190069521d281"
   },
   "source": [
    "## Classification\n",
    "\n",
    "### Generating fake data"
   ]
  },
  {
   "cell_type": "code",
   "execution_count": 18,
   "metadata": {
    "_cell_guid": "6cf2f75a-4cc3-471f-84c3-a8298796067d",
    "_uuid": "5f9e371c09298d1668984556ba532be8691938b1"
   },
   "outputs": [],
   "source": [
    "n_data = np.ones((100,2))\n",
    "# numpy.random.normal draws random samples from a normal(Gaussian) distribution\n",
    "x0 = np.random.normal(2*n_data,1)      # class0 x shape =(100,2)\n",
    "y0 = np.zeros(100)                     # class0 y shape =(100,1)\n",
    "x1 = np.random.normal(-2*n_data, 1)    # class1 x shape =(100,2)\n",
    "y1 = np.ones(100)                      # class1 y shape =(100,1)\n",
    "# vertical stacking\n",
    "x = np.vstack((x0, x1))    # shape (200,2) + some noise\n",
    "# horizontal stacking\n",
    "y = np.hstack((y0, y1))    # shape (200, )\n",
    "\n",
    "plt.scatter(x[:, 0], x[:, 1], c=y, s=100, lw=0, cmap='RdYlGn')\n",
    "plt.show()\n"
   ]
  },
  {
   "cell_type": "code",
   "execution_count": 19,
   "metadata": {
    "_cell_guid": "8abbad14-2721-4c59-9e93-8a9974253f0d",
    "_uuid": "1d8321ad22a08c92b8952baefd033258da0f8d8c",
    "collapsed": true
   },
   "outputs": [],
   "source": [
    "# input x and y\n",
    "tf_x = tf.placeholder(tf.float32, x.shape)\n",
    "tf_y = tf.placeholder(tf.int32, y.shape)"
   ]
  },
  {
   "cell_type": "markdown",
   "metadata": {
    "_cell_guid": "d0ba6f2c-8cba-49eb-9b33-fcaec1eb43ff",
    "_uuid": "26123fd5f556e6279361c2ddc585813902467322"
   },
   "source": [
    "### Making Neural Network layers"
   ]
  },
  {
   "cell_type": "code",
   "execution_count": 20,
   "metadata": {
    "_cell_guid": "a069dba0-7712-4293-9de5-1c3ee6d74ef4",
    "_uuid": "c6196413763caa37a52a24539cb6772eeaa163f2",
    "collapsed": true
   },
   "outputs": [],
   "source": [
    "l1 = tf.layers.dense(tf_x, 10, tf.nn.relu) # hidden layer\n",
    "output = tf.layers.dense(l1, 2)           # output layer\n",
    "\n",
    "loss = tf.losses.sparse_softmax_cross_entropy(labels=tf_y, logits=output)    # cost function\n",
    "# return (acc, update_op), and create 2 local variable\n",
    "accuracy = tf.metrics.accuracy(labels=tf.squeeze(tf_y), predictions=tf.argmax(output, axis=1),)[1]\n",
    "optimizer = tf.train.GradientDescentOptimizer(learning_rate=0.05)\n",
    "train_op = optimizer.minimize(loss)"
   ]
  },
  {
   "cell_type": "code",
   "execution_count": null,
   "metadata": {
    "_cell_guid": "414e4de2-46e4-4775-a98d-4efc9b26141b",
    "_uuid": "68920601f95b453b4af9e223fd42516df599ef53"
   },
   "outputs": [],
   "source": [
    "sess = tf.Session()\n",
    "init_op = tf.group(tf.global_variables_initializer(), tf.local_variables_initializer())\n",
    "sess.run(init_op)\n",
    "\n",
    "plt.ion()\n",
    "for step in range(100):\n",
    "    _, acc, pred = sess.run([train_op, accuracy, output], {tf_x: x, tf_y: y})\n",
    "    if step%2 == 0:\n",
    "        plt.cla()\n",
    "        plt.scatter(x[:, 0], x[:, 1], c=pred.argmax(1), s=100, lw=0, cmap='RdYlGn')\n",
    "        plt.text(1.5, -4, 'Accuracy=%.2f' % acc, fontdict={'size': 20, 'color': 'red'})\n",
    "        plt.pause(0.1)\n",
    "        \n",
    "plt.ioff()\n",
    "plt.show()"
   ]
  },
  {
   "cell_type": "markdown",
   "metadata": {
    "_cell_guid": "07b30b78-36ec-4355-9358-7b348c397bb0",
    "_uuid": "d84113aa55e651df60e094c5ef33bf200f87d19a",
    "collapsed": true
   },
   "source": [
    "## Optimiser"
   ]
  },
  {
   "cell_type": "code",
   "execution_count": 24,
   "metadata": {
    "_cell_guid": "3ea63db7-a5cc-4f15-88f5-f6729991adff",
    "_uuid": "f0e00abc3e43f2bac6153aaeab87a3a6ade74037"
   },
   "outputs": [],
   "source": [
    "LR = 0.01\n",
    "BATCH_SIZE = 32"
   ]
  },
  {
   "cell_type": "code",
   "execution_count": 25,
   "metadata": {
    "_uuid": "347aba37e49d3b9ca3ce314ae26210be1ff692e4"
   },
   "outputs": [],
   "source": [
    "# fake data\n",
    "x = np.linspace(-1, 1, 100)[:, np.newaxis]          # shape (100, 1)\n",
    "noise = np.random.normal(0, 0.1, size=x.shape)\n",
    "y = np.power(x, 2) + noise                          # shape (100, 1) + some noise\n",
    "\n",
    "# plot dataset\n",
    "plt.scatter(x, y)\n",
    "plt.show()"
   ]
  },
  {
   "cell_type": "code",
   "execution_count": 30,
   "metadata": {
    "_uuid": "6dcf13a555caecf142cee86eb20e2421e3f26499"
   },
   "outputs": [],
   "source": [
    "class Net:\n",
    "    def __init__(self, opt, **kwargs):\n",
    "        self.x = tf.placeholder(tf.float32, [None,1])\n",
    "        self.y = tf.placeholder(tf.float32, [None,1])\n",
    "        l = tf.layers.dense(self.x, 20, tf.nn.relu)\n",
    "        out = tf.layers.dense(l,1)\n",
    "        self.loss = tf.losses.mean_squared_error(self.y, out)\n",
    "        self.train = opt(LR, **kwargs).minimize(self.loss)\n",
    "        \n",
    "# Different Nets\n",
    "net_SGD = Net(tf.train.GradientDescentOptimizer)\n",
    "net_Momentum = Net(tf.train.MomentumOptimizer, momentum=0.9)\n",
    "net_RMSprop = Net(tf.train.RMSPropOptimizer)\n",
    "net_Adam = Net(tf.train.AdamOptimizer)\n",
    "\n",
    "nets = [net_SGD, net_Momentum, net_RMSprop, net_Adam]"
   ]
  },
  {
   "cell_type": "code",
   "execution_count": 32,
   "metadata": {
    "_uuid": "d35a4b0de3df8a072e6973abcbede3323296466e"
   },
   "outputs": [],
   "source": [
    "sess = tf.Session()\n",
    "sess.run(tf.global_variables_initializer())\n",
    "\n",
    "losses_his = [[],[],[]]          # recode loss\n",
    "\n",
    "#training\n",
    "for step in range(300):\n",
    "    index = np.random.randint(0, x.shape[0], BATCH_SIZE)\n",
    "    b_x = x[index]\n",
    "    b_y = y[index]\n",
    "    \n",
    "    for net, l_his in zip(nets, losses_his):\n",
    "        _, l = sess.run([net.train, net.loss], {net.x: b_x, net.y: b_y})\n",
    "        l_his.append(l)    #loss recoder\n",
    "        \n",
    "#plot loss history\n",
    "labels = ['SGD', 'Momentum','RMSprop', 'Adam']\n",
    "for i, l_his in enumerate(losses_his):\n",
    "    plt.plot(l_his, label = labels[i])\n",
    "plt.legend(loc = 'best')\n",
    "plt.xlabel('Steps')\n",
    "plt.ylabel('Loss')\n",
    "plt.ylim((0,0.2))\n",
    "plt.show()\n"
   ]
  },
  {
   "cell_type": "code",
   "execution_count": null,
   "metadata": {
    "_uuid": "7376b9fdc61c445d626e87d1b9420d11032d9eb1",
    "collapsed": true
   },
   "outputs": [],
   "source": []
  }
 ],
 "metadata": {
  "kernelspec": {
   "display_name": "Python 3 (ipykernel)",
   "language": "python",
   "name": "python3"
  },
  "language_info": {
   "codemirror_mode": {
    "name": "ipython",
    "version": 3
   },
   "file_extension": ".py",
   "mimetype": "text/x-python",
   "name": "python",
   "nbconvert_exporter": "python",
   "pygments_lexer": "ipython3",
   "version": "3.9.12"
  }
 },
 "nbformat": 4,
 "nbformat_minor": 1
}
