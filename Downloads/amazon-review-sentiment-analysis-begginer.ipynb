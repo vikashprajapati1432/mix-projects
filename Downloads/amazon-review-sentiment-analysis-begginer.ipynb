{
 "cells": [
  {
   "cell_type": "code",
   "execution_count": null,
   "id": "c1a36546",
   "metadata": {
    "papermill": {
     "duration": 0.026669,
     "end_time": "2021-11-04T11:25:59.764167",
     "exception": false,
     "start_time": "2021-11-04T11:25:59.737498",
     "status": "completed"
    },
    "tags": []
   },
   "outputs": [],
   "source": [
    "### REF\n",
    "#Amazon Review Sentiment Analysis Prediction\n",
    "#problems \n",
    "\"\"\"\n",
    "1. Identify custom topics\n",
    "2. Automatic topic grouping\n",
    "3. Sentiment analysis\n",
    "4. Discover trends\n",
    "5. Improve customer support\n",
    "6. Identity issues\n",
    "7. Manage brand reputation\n",
    "8. Competitor intelligence\n",
    "9. Product enhancements \n",
    "10. Review metrics\n",
    "\"\"\"\n",
    "\n",
    "#solution\n",
    "\"\"\"Amazon review analysis can help brands identify topics, subtopics, and aspects for which there \n",
    "can be not only negative and positive feelings but also split emotions expressed.\n",
    "hese machine learning tasks then automatically group these topics into custom categories like\n",
    "convenience, sturdiness, easy-of-use, etc.\n",
    "Mining the emotions from reviews is what makes Amazon review analysis a more holistic approach\n",
    "than just numerical analysis. \n",
    "\"\"\""
   ]
  },
  {
   "cell_type": "markdown",
   "id": "59c61619",
   "metadata": {
    "papermill": {
     "duration": 0.025583,
     "end_time": "2021-11-04T11:25:59.815806",
     "exception": false,
     "start_time": "2021-11-04T11:25:59.790223",
     "status": "completed"
    },
    "tags": []
   },
   "source": [
    "### Library"
   ]
  },
  {
   "cell_type": "code",
   "execution_count": 1,
   "id": "1d88c1e4",
   "metadata": {
    "_cell_guid": "b1076dfc-b9ad-4769-8c92-a6c4dae69d19",
    "_uuid": "8f2839f25d086af736a60e9eeb907d3b93b6e0e5",
    "execution": {
     "iopub.execute_input": "2021-11-04T11:25:59.875249Z",
     "iopub.status.busy": "2021-11-04T11:25:59.873447Z",
     "iopub.status.idle": "2021-11-04T11:26:01.970754Z",
     "shell.execute_reply": "2021-11-04T11:26:01.969967Z",
     "shell.execute_reply.started": "2021-11-04T11:20:20.974841Z"
    },
    "papermill": {
     "duration": 2.128104,
     "end_time": "2021-11-04T11:26:01.970942",
     "exception": false,
     "start_time": "2021-11-04T11:25:59.842838",
     "status": "completed"
    },
    "tags": []
   },
   "outputs": [],
   "source": [
    "import pandas as pd \n",
    "import numpy as np \n",
    "import matplotlib.pyplot as plt \n",
    "import seaborn as sns \n",
    "import re \n",
    "%matplotlib inline \n",
    "\n",
    "import warnings\n",
    "warnings.filterwarnings(\"ignore\")\n",
    "plt.style.use('ggplot')\n",
    "\n",
    "import nltk\n",
    "from nltk import word_tokenize\n",
    "\n",
    "from sklearn.feature_extraction.text import CountVectorizer\n",
    "from sklearn.feature_extraction.text import TfidfVectorizer\n",
    "from collections import Counter\n",
    "from wordcloud import WordCloud\n",
    "\n",
    "from sklearn.model_selection import train_test_split\n",
    "from sklearn.linear_model import LogisticRegression\n",
    "from sklearn.ensemble import RandomForestClassifier\n",
    "from sklearn.metrics import accuracy_score\n",
    "from sklearn.metrics import f1_score"
   ]
  },
  {
   "cell_type": "code",
   "execution_count": 2,
   "id": "043010a3",
   "metadata": {
    "execution": {
     "iopub.execute_input": "2021-11-04T11:26:02.026809Z",
     "iopub.status.busy": "2021-11-04T11:26:02.025764Z",
     "iopub.status.idle": "2021-11-04T11:26:10.917927Z",
     "shell.execute_reply": "2021-11-04T11:26:10.917264Z",
     "shell.execute_reply.started": "2021-11-04T11:20:22.998734Z"
    },
    "papermill": {
     "duration": 8.921214,
     "end_time": "2021-11-04T11:26:10.918081",
     "exception": false,
     "start_time": "2021-11-04T11:26:01.996867",
     "status": "completed"
    },
    "tags": []
   },
   "outputs": [],
   "source": [
    "df = pd.read_csv('../input/amazon-product-reviews/Reviews.csv')"
   ]
  },
  {
   "cell_type": "code",
   "execution_count": 3,
   "id": "343ef890",
   "metadata": {
    "execution": {
     "iopub.execute_input": "2021-11-04T11:26:10.982252Z",
     "iopub.status.busy": "2021-11-04T11:26:10.981568Z",
     "iopub.status.idle": "2021-11-04T11:26:11.006251Z",
     "shell.execute_reply": "2021-11-04T11:26:11.005494Z",
     "shell.execute_reply.started": "2021-11-04T11:20:30.257749Z"
    },
    "papermill": {
     "duration": 0.062388,
     "end_time": "2021-11-04T11:26:11.006455",
     "exception": false,
     "start_time": "2021-11-04T11:26:10.944067",
     "status": "completed"
    },
    "tags": []
   },
   "outputs": [
    {
     "name": "stdout",
     "output_type": "stream",
     "text": [
      "(568454, 10)\n"
     ]
    },
    {
     "data": {
      "text/html": [
       "<div>\n",
       "<style scoped>\n",
       "    .dataframe tbody tr th:only-of-type {\n",
       "        vertical-align: middle;\n",
       "    }\n",
       "\n",
       "    .dataframe tbody tr th {\n",
       "        vertical-align: top;\n",
       "    }\n",
       "\n",
       "    .dataframe thead th {\n",
       "        text-align: right;\n",
       "    }\n",
       "</style>\n",
       "<table border=\"1\" class=\"dataframe\">\n",
       "  <thead>\n",
       "    <tr style=\"text-align: right;\">\n",
       "      <th></th>\n",
       "      <th>Id</th>\n",
       "      <th>ProductId</th>\n",
       "      <th>UserId</th>\n",
       "      <th>ProfileName</th>\n",
       "      <th>HelpfulnessNumerator</th>\n",
       "      <th>HelpfulnessDenominator</th>\n",
       "      <th>Score</th>\n",
       "      <th>Time</th>\n",
       "      <th>Summary</th>\n",
       "      <th>Text</th>\n",
       "    </tr>\n",
       "  </thead>\n",
       "  <tbody>\n",
       "    <tr>\n",
       "      <th>0</th>\n",
       "      <td>1</td>\n",
       "      <td>B001E4KFG0</td>\n",
       "      <td>A3SGXH7AUHU8GW</td>\n",
       "      <td>delmartian</td>\n",
       "      <td>1</td>\n",
       "      <td>1</td>\n",
       "      <td>5</td>\n",
       "      <td>1303862400</td>\n",
       "      <td>Good Quality Dog Food</td>\n",
       "      <td>I have bought several of the Vitality canned d...</td>\n",
       "    </tr>\n",
       "    <tr>\n",
       "      <th>1</th>\n",
       "      <td>2</td>\n",
       "      <td>B00813GRG4</td>\n",
       "      <td>A1D87F6ZCVE5NK</td>\n",
       "      <td>dll pa</td>\n",
       "      <td>0</td>\n",
       "      <td>0</td>\n",
       "      <td>1</td>\n",
       "      <td>1346976000</td>\n",
       "      <td>Not as Advertised</td>\n",
       "      <td>Product arrived labeled as Jumbo Salted Peanut...</td>\n",
       "    </tr>\n",
       "    <tr>\n",
       "      <th>2</th>\n",
       "      <td>3</td>\n",
       "      <td>B000LQOCH0</td>\n",
       "      <td>ABXLMWJIXXAIN</td>\n",
       "      <td>Natalia Corres \"Natalia Corres\"</td>\n",
       "      <td>1</td>\n",
       "      <td>1</td>\n",
       "      <td>4</td>\n",
       "      <td>1219017600</td>\n",
       "      <td>\"Delight\" says it all</td>\n",
       "      <td>This is a confection that has been around a fe...</td>\n",
       "    </tr>\n",
       "  </tbody>\n",
       "</table>\n",
       "</div>"
      ],
      "text/plain": [
       "   Id   ProductId          UserId                      ProfileName  \\\n",
       "0   1  B001E4KFG0  A3SGXH7AUHU8GW                       delmartian   \n",
       "1   2  B00813GRG4  A1D87F6ZCVE5NK                           dll pa   \n",
       "2   3  B000LQOCH0   ABXLMWJIXXAIN  Natalia Corres \"Natalia Corres\"   \n",
       "\n",
       "   HelpfulnessNumerator  HelpfulnessDenominator  Score        Time  \\\n",
       "0                     1                       1      5  1303862400   \n",
       "1                     0                       0      1  1346976000   \n",
       "2                     1                       1      4  1219017600   \n",
       "\n",
       "                 Summary                                               Text  \n",
       "0  Good Quality Dog Food  I have bought several of the Vitality canned d...  \n",
       "1      Not as Advertised  Product arrived labeled as Jumbo Salted Peanut...  \n",
       "2  \"Delight\" says it all  This is a confection that has been around a fe...  "
      ]
     },
     "execution_count": 3,
     "metadata": {},
     "output_type": "execute_result"
    }
   ],
   "source": [
    "print(df.shape)\n",
    "df.head(3)"
   ]
  },
  {
   "cell_type": "code",
   "execution_count": 4,
   "id": "1a287ba7",
   "metadata": {
    "execution": {
     "iopub.execute_input": "2021-11-04T11:26:11.073333Z",
     "iopub.status.busy": "2021-11-04T11:26:11.072300Z",
     "iopub.status.idle": "2021-11-04T11:26:11.281364Z",
     "shell.execute_reply": "2021-11-04T11:26:11.281872Z",
     "shell.execute_reply.started": "2021-11-04T11:20:30.291419Z"
    },
    "papermill": {
     "duration": 0.247993,
     "end_time": "2021-11-04T11:26:11.282049",
     "exception": false,
     "start_time": "2021-11-04T11:26:11.034056",
     "status": "completed"
    },
    "tags": []
   },
   "outputs": [
    {
     "name": "stdout",
     "output_type": "stream",
     "text": [
      "(113691, 10)\n"
     ]
    },
    {
     "data": {
      "text/html": [
       "<div>\n",
       "<style scoped>\n",
       "    .dataframe tbody tr th:only-of-type {\n",
       "        vertical-align: middle;\n",
       "    }\n",
       "\n",
       "    .dataframe tbody tr th {\n",
       "        vertical-align: top;\n",
       "    }\n",
       "\n",
       "    .dataframe thead th {\n",
       "        text-align: right;\n",
       "    }\n",
       "</style>\n",
       "<table border=\"1\" class=\"dataframe\">\n",
       "  <thead>\n",
       "    <tr style=\"text-align: right;\">\n",
       "      <th></th>\n",
       "      <th>Id</th>\n",
       "      <th>ProductId</th>\n",
       "      <th>UserId</th>\n",
       "      <th>ProfileName</th>\n",
       "      <th>HelpfulnessNumerator</th>\n",
       "      <th>HelpfulnessDenominator</th>\n",
       "      <th>Score</th>\n",
       "      <th>Time</th>\n",
       "      <th>Summary</th>\n",
       "      <th>Text</th>\n",
       "    </tr>\n",
       "  </thead>\n",
       "  <tbody>\n",
       "    <tr>\n",
       "      <th>0</th>\n",
       "      <td>528047</td>\n",
       "      <td>B004QLX0LA</td>\n",
       "      <td>A2J8UVU3BOQ7HA</td>\n",
       "      <td>Tiffany K</td>\n",
       "      <td>6</td>\n",
       "      <td>6</td>\n",
       "      <td>4</td>\n",
       "      <td>1315872000</td>\n",
       "      <td>The Only Food That Works on a Sensitive Stomach</td>\n",
       "      <td>I have tried many foods with my dog's sensitiv...</td>\n",
       "    </tr>\n",
       "    <tr>\n",
       "      <th>1</th>\n",
       "      <td>35825</td>\n",
       "      <td>B000LKXJEI</td>\n",
       "      <td>AWX2C6PPAMFX0</td>\n",
       "      <td>Melissa</td>\n",
       "      <td>1</td>\n",
       "      <td>2</td>\n",
       "      <td>2</td>\n",
       "      <td>1298851200</td>\n",
       "      <td>Warning: These smell and taste like dog food :(</td>\n",
       "      <td>I am a vegetarian, and I wanted so badly to li...</td>\n",
       "    </tr>\n",
       "    <tr>\n",
       "      <th>2</th>\n",
       "      <td>189389</td>\n",
       "      <td>B001EO5Q64</td>\n",
       "      <td>A3JBVPFVM061IN</td>\n",
       "      <td>Pheann</td>\n",
       "      <td>2</td>\n",
       "      <td>2</td>\n",
       "      <td>5</td>\n",
       "      <td>1297123200</td>\n",
       "      <td>Nutiva Coconut Oil</td>\n",
       "      <td>It was nicely packaged and arrived very quickl...</td>\n",
       "    </tr>\n",
       "    <tr>\n",
       "      <th>3</th>\n",
       "      <td>464455</td>\n",
       "      <td>B000UBD88A</td>\n",
       "      <td>A3HQ03VWC4T4OE</td>\n",
       "      <td>Oddie</td>\n",
       "      <td>0</td>\n",
       "      <td>0</td>\n",
       "      <td>2</td>\n",
       "      <td>1325980800</td>\n",
       "      <td>Is this Senseo for reals?</td>\n",
       "      <td>This was our second order of Senseo Dark Roast...</td>\n",
       "    </tr>\n",
       "    <tr>\n",
       "      <th>4</th>\n",
       "      <td>126284</td>\n",
       "      <td>B000F8GWRM</td>\n",
       "      <td>A1WWPVZOH2ACQD</td>\n",
       "      <td>E. Loiselle</td>\n",
       "      <td>1</td>\n",
       "      <td>1</td>\n",
       "      <td>1</td>\n",
       "      <td>1311811200</td>\n",
       "      <td>Tastes fine, makes you sick in your gut!</td>\n",
       "      <td>I ate most of these in a small bag. I had the ...</td>\n",
       "    </tr>\n",
       "  </tbody>\n",
       "</table>\n",
       "</div>"
      ],
      "text/plain": [
       "       Id   ProductId          UserId  ProfileName  HelpfulnessNumerator  \\\n",
       "0  528047  B004QLX0LA  A2J8UVU3BOQ7HA    Tiffany K                     6   \n",
       "1   35825  B000LKXJEI   AWX2C6PPAMFX0      Melissa                     1   \n",
       "2  189389  B001EO5Q64  A3JBVPFVM061IN       Pheann                     2   \n",
       "3  464455  B000UBD88A  A3HQ03VWC4T4OE        Oddie                     0   \n",
       "4  126284  B000F8GWRM  A1WWPVZOH2ACQD  E. Loiselle                     1   \n",
       "\n",
       "   HelpfulnessDenominator  Score        Time  \\\n",
       "0                       6      4  1315872000   \n",
       "1                       2      2  1298851200   \n",
       "2                       2      5  1297123200   \n",
       "3                       0      2  1325980800   \n",
       "4                       1      1  1311811200   \n",
       "\n",
       "                                           Summary  \\\n",
       "0  The Only Food That Works on a Sensitive Stomach   \n",
       "1  Warning: These smell and taste like dog food :(   \n",
       "2                               Nutiva Coconut Oil   \n",
       "3                        Is this Senseo for reals?   \n",
       "4         Tastes fine, makes you sick in your gut!   \n",
       "\n",
       "                                                Text  \n",
       "0  I have tried many foods with my dog's sensitiv...  \n",
       "1  I am a vegetarian, and I wanted so badly to li...  \n",
       "2  It was nicely packaged and arrived very quickl...  \n",
       "3  This was our second order of Senseo Dark Roast...  \n",
       "4  I ate most of these in a small bag. I had the ...  "
      ]
     },
     "execution_count": 4,
     "metadata": {},
     "output_type": "execute_result"
    }
   ],
   "source": [
    "# for all data is too heavy, make it slim by chose\n",
    "df2 = df.sample(frac= 0.20,replace = True).reset_index(drop = True)\n",
    "\n",
    "print(df2.shape)\n",
    "df2.head()"
   ]
  },
  {
   "cell_type": "code",
   "execution_count": 5,
   "id": "e8244768",
   "metadata": {
    "execution": {
     "iopub.execute_input": "2021-11-04T11:26:11.458900Z",
     "iopub.status.busy": "2021-11-04T11:26:11.343647Z",
     "iopub.status.idle": "2021-11-04T11:26:11.483588Z",
     "shell.execute_reply": "2021-11-04T11:26:11.482752Z",
     "shell.execute_reply.started": "2021-11-04T11:20:30.443901Z"
    },
    "papermill": {
     "duration": 0.17301,
     "end_time": "2021-11-04T11:26:11.483784",
     "exception": false,
     "start_time": "2021-11-04T11:26:11.310774",
     "status": "completed"
    },
    "tags": []
   },
   "outputs": [
    {
     "name": "stdout",
     "output_type": "stream",
     "text": [
      "<class 'pandas.core.frame.DataFrame'>\n",
      "RangeIndex: 113691 entries, 0 to 113690\n",
      "Data columns (total 10 columns):\n",
      " #   Column                  Non-Null Count   Dtype \n",
      "---  ------                  --------------   ----- \n",
      " 0   Id                      113691 non-null  int64 \n",
      " 1   ProductId               113691 non-null  object\n",
      " 2   UserId                  113691 non-null  object\n",
      " 3   ProfileName             113688 non-null  object\n",
      " 4   HelpfulnessNumerator    113691 non-null  int64 \n",
      " 5   HelpfulnessDenominator  113691 non-null  int64 \n",
      " 6   Score                   113691 non-null  int64 \n",
      " 7   Time                    113691 non-null  int64 \n",
      " 8   Summary                 113682 non-null  object\n",
      " 9   Text                    113691 non-null  object\n",
      "dtypes: int64(5), object(5)\n",
      "memory usage: 8.7+ MB\n"
     ]
    }
   ],
   "source": [
    "df2.info()"
   ]
  },
  {
   "cell_type": "code",
   "execution_count": 6,
   "id": "753df51b",
   "metadata": {
    "execution": {
     "iopub.execute_input": "2021-11-04T11:26:11.664085Z",
     "iopub.status.busy": "2021-11-04T11:26:11.661767Z",
     "iopub.status.idle": "2021-11-04T11:26:11.958899Z",
     "shell.execute_reply": "2021-11-04T11:26:11.958095Z",
     "shell.execute_reply.started": "2021-11-04T11:20:30.555334Z"
    },
    "papermill": {
     "duration": 0.445389,
     "end_time": "2021-11-04T11:26:11.959080",
     "exception": false,
     "start_time": "2021-11-04T11:26:11.513691",
     "status": "completed"
    },
    "tags": []
   },
   "outputs": [
    {
     "name": "stdout",
     "output_type": "stream",
     "text": [
      "Id                        0\n",
      "ProductId                 0\n",
      "UserId                    0\n",
      "ProfileName               3\n",
      "HelpfulnessNumerator      0\n",
      "HelpfulnessDenominator    0\n",
      "Score                     0\n",
      "Time                      0\n",
      "Summary                   9\n",
      "Text                      0\n",
      "dtype: int64\n"
     ]
    },
    {
     "data": {
      "text/plain": [
       "Id                        0\n",
       "ProductId                 0\n",
       "UserId                    0\n",
       "ProfileName               0\n",
       "HelpfulnessNumerator      0\n",
       "HelpfulnessDenominator    0\n",
       "Score                     0\n",
       "Time                      0\n",
       "Summary                   0\n",
       "Text                      0\n",
       "dtype: int64"
      ]
     },
     "execution_count": 6,
     "metadata": {},
     "output_type": "execute_result"
    }
   ],
   "source": [
    "print(df2.isna().sum())\n",
    "df2.dropna(inplace= True)\n",
    "df2.isna().sum()"
   ]
  },
  {
   "cell_type": "markdown",
   "id": "19925354",
   "metadata": {
    "papermill": {
     "duration": 0.029361,
     "end_time": "2021-11-04T11:26:12.017095",
     "exception": false,
     "start_time": "2021-11-04T11:26:11.987734",
     "status": "completed"
    },
    "tags": []
   },
   "source": [
    "What is the distribution of ratings across dataset"
   ]
  },
  {
   "cell_type": "code",
   "execution_count": 7,
   "id": "4268e037",
   "metadata": {
    "execution": {
     "iopub.execute_input": "2021-11-04T11:26:12.080846Z",
     "iopub.status.busy": "2021-11-04T11:26:12.079848Z",
     "iopub.status.idle": "2021-11-04T11:26:12.092151Z",
     "shell.execute_reply": "2021-11-04T11:26:12.092690Z",
     "shell.execute_reply.started": "2021-11-04T11:20:30.867408Z"
    },
    "papermill": {
     "duration": 0.04722,
     "end_time": "2021-11-04T11:26:12.092876",
     "exception": false,
     "start_time": "2021-11-04T11:26:12.045656",
     "status": "completed"
    },
    "tags": []
   },
   "outputs": [
    {
     "name": "stdout",
     "output_type": "stream",
     "text": [
      "5    72491\n",
      "4    16363\n",
      "1    10326\n",
      "3     8429\n",
      "2     6070\n",
      "Name: Score, dtype: int64\n"
     ]
    },
    {
     "data": {
      "text/plain": [
       "5    12.752307\n",
       "4     2.878509\n",
       "1     1.816506\n",
       "3     1.482794\n",
       "2     1.067808\n",
       "Name: Score, dtype: float64"
      ]
     },
     "execution_count": 7,
     "metadata": {},
     "output_type": "execute_result"
    }
   ],
   "source": [
    "print(df2['Score'].value_counts())\n",
    "rating_pct = df2['Score'].value_counts()/len(df) * 100\n",
    "rating_pct"
   ]
  },
  {
   "cell_type": "markdown",
   "id": "c0417b88",
   "metadata": {
    "papermill": {
     "duration": 0.028856,
     "end_time": "2021-11-04T11:26:12.151837",
     "exception": false,
     "start_time": "2021-11-04T11:26:12.122981",
     "status": "completed"
    },
    "tags": []
   },
   "source": [
    "### ditsributoin review(score)"
   ]
  },
  {
   "cell_type": "code",
   "execution_count": 8,
   "id": "65762dcd",
   "metadata": {
    "execution": {
     "iopub.execute_input": "2021-11-04T11:26:12.217822Z",
     "iopub.status.busy": "2021-11-04T11:26:12.216965Z",
     "iopub.status.idle": "2021-11-04T11:26:12.406597Z",
     "shell.execute_reply": "2021-11-04T11:26:12.406017Z",
     "shell.execute_reply.started": "2021-11-04T11:20:30.885096Z"
    },
    "papermill": {
     "duration": 0.223586,
     "end_time": "2021-11-04T11:26:12.406755",
     "exception": false,
     "start_time": "2021-11-04T11:26:12.183169",
     "status": "completed"
    },
    "tags": []
   },
   "outputs": [
    {
     "data": {
      "image/png": "[encoded data removed]",
      "text/plain": [
       "<Figure size 432x288 with 1 Axes>"
      ]
     },
     "metadata": {},
     "output_type": "display_data"
    }
   ],
   "source": [
    "rating_pct.plot.bar()\n",
    "plt.show()"
   ]
  },
  {
   "cell_type": "code",
   "execution_count": 9,
   "id": "a09d2f41",
   "metadata": {
    "execution": {
     "iopub.execute_input": "2021-11-04T11:26:12.486426Z",
     "iopub.status.busy": "2021-11-04T11:26:12.485441Z",
     "iopub.status.idle": "2021-11-04T11:26:13.631189Z",
     "shell.execute_reply": "2021-11-04T11:26:13.630555Z",
     "shell.execute_reply.started": "2021-11-04T11:20:31.069881Z"
    },
    "papermill": {
     "duration": 1.194007,
     "end_time": "2021-11-04T11:26:13.631329",
     "exception": false,
     "start_time": "2021-11-04T11:26:12.437322",
     "status": "completed"
    },
    "tags": []
   },
   "outputs": [
    {
     "data": {
      "image/png": "[encoded data removed]",
      "text/plain": [
       "<Figure size 1008x432 with 1 Axes>"
      ]
     },
     "metadata": {},
     "output_type": "display_data"
    }
   ],
   "source": [
    "#words per review\n",
    "plt.figure(figsize = (14,6))\n",
    "WordsPerReview = df2['Text'].apply(lambda x: len(x.split(' ')))\n",
    "\n",
    "sns.histplot(WordsPerReview,bins = 100)\n",
    "\n",
    "plt.xlabel('Review Length')\n",
    "plt.show()"
   ]
  },
  {
   "cell_type": "markdown",
   "id": "a5ed6627",
   "metadata": {
    "papermill": {
     "duration": 0.030754,
     "end_time": "2021-11-04T11:26:13.693747",
     "exception": false,
     "start_time": "2021-11-04T11:26:13.662993",
     "status": "completed"
    },
    "tags": []
   },
   "source": [
    "### Word cloud"
   ]
  },
  {
   "cell_type": "code",
   "execution_count": 10,
   "id": "473a850f",
   "metadata": {
    "execution": {
     "iopub.execute_input": "2021-11-04T11:26:13.765571Z",
     "iopub.status.busy": "2021-11-04T11:26:13.764688Z",
     "iopub.status.idle": "2021-11-04T11:26:48.094652Z",
     "shell.execute_reply": "2021-11-04T11:26:48.095280Z",
     "shell.execute_reply.started": "2021-11-04T11:20:32.191318Z"
    },
    "papermill": {
     "duration": 34.370739,
     "end_time": "2021-11-04T11:26:48.095521",
     "exception": false,
     "start_time": "2021-11-04T11:26:13.724782",
     "status": "completed"
    },
    "tags": []
   },
   "outputs": [
    {
     "data": {
      "image/png": "[encoded data removed]",
      "text/plain": [
       "<Figure size 432x288 with 1 Axes>"
      ]
     },
     "metadata": {},
     "output_type": "display_data"
    }
   ],
   "source": [
    "# all reivie joint into 1 sentence\n",
    "txt = ' '.join(review for review in df2.Text)\n",
    "\n",
    "wordcloud = WordCloud(\n",
    "            background_color = 'white',\n",
    "            max_font_size = 100,\n",
    "            max_words = 100,\n",
    "            width = 800,\n",
    "            height = 500\n",
    "            ).generate(txt)\n",
    "\n",
    "\n",
    "plt.imshow(wordcloud,interpolation = 'bilinear')\n",
    "plt.axis('off')\n",
    "plt.show()"
   ]
  },
  {
   "cell_type": "markdown",
   "id": "b64c1c80",
   "metadata": {
    "papermill": {
     "duration": 0.042612,
     "end_time": "2021-11-04T11:26:48.180506",
     "exception": false,
     "start_time": "2021-11-04T11:26:48.137894",
     "status": "completed"
    },
    "tags": []
   },
   "source": [
    "#### Data Preprocessing and Transformation"
   ]
  },
  {
   "cell_type": "code",
   "execution_count": 11,
   "id": "283d8320",
   "metadata": {
    "execution": {
     "iopub.execute_input": "2021-11-04T11:26:48.254253Z",
     "iopub.status.busy": "2021-11-04T11:26:48.253525Z",
     "iopub.status.idle": "2021-11-04T11:26:48.277591Z",
     "shell.execute_reply": "2021-11-04T11:26:48.278175Z",
     "shell.execute_reply.started": "2021-11-04T11:21:03.053263Z"
    },
    "papermill": {
     "duration": 0.062387,
     "end_time": "2021-11-04T11:26:48.278432",
     "exception": false,
     "start_time": "2021-11-04T11:26:48.216045",
     "status": "completed"
    },
    "tags": []
   },
   "outputs": [],
   "source": [
    "df2 = pd.DataFrame(df2,columns = ['Score','Text'])\n",
    "df2.rename(columns = {'Score':'Rating','Text':'Review'},inplace = True)"
   ]
  },
  {
   "cell_type": "code",
   "execution_count": 12,
   "id": "c428e5da",
   "metadata": {
    "execution": {
     "iopub.execute_input": "2021-11-04T11:26:48.353197Z",
     "iopub.status.busy": "2021-11-04T11:26:48.352530Z",
     "iopub.status.idle": "2021-11-04T11:26:48.356516Z",
     "shell.execute_reply": "2021-11-04T11:26:48.357066Z",
     "shell.execute_reply.started": "2021-11-04T11:21:03.079421Z"
    },
    "papermill": {
     "duration": 0.042336,
     "end_time": "2021-11-04T11:26:48.357243",
     "exception": false,
     "start_time": "2021-11-04T11:26:48.314907",
     "status": "completed"
    },
    "tags": []
   },
   "outputs": [],
   "source": [
    "def apply_sentiment(Rating):\n",
    "    if(Rating <=2 ):\n",
    "        return 0\n",
    "    else:\n",
    "        return 1"
   ]
  },
  {
   "cell_type": "code",
   "execution_count": 13,
   "id": "d9a57535",
   "metadata": {
    "execution": {
     "iopub.execute_input": "2021-11-04T11:26:48.433958Z",
     "iopub.status.busy": "2021-11-04T11:26:48.429434Z",
     "iopub.status.idle": "2021-11-04T11:26:48.522918Z",
     "shell.execute_reply": "2021-11-04T11:26:48.523455Z",
     "shell.execute_reply.started": "2021-11-04T11:21:03.091685Z"
    },
    "papermill": {
     "duration": 0.131565,
     "end_time": "2021-11-04T11:26:48.523649",
     "exception": false,
     "start_time": "2021-11-04T11:26:48.392084",
     "status": "completed"
    },
    "tags": []
   },
   "outputs": [],
   "source": [
    "df2['Sentiment'] = df2['Rating'].apply(apply_sentiment)\n",
    "df2.drop(['Rating'],axis = 1, inplace = True)"
   ]
  },
  {
   "cell_type": "code",
   "execution_count": 14,
   "id": "4891e916",
   "metadata": {
    "execution": {
     "iopub.execute_input": "2021-11-04T11:26:48.598216Z",
     "iopub.status.busy": "2021-11-04T11:26:48.597571Z",
     "iopub.status.idle": "2021-11-04T11:26:48.603873Z",
     "shell.execute_reply": "2021-11-04T11:26:48.604520Z",
     "shell.execute_reply.started": "2021-11-04T11:21:03.185451Z"
    },
    "papermill": {
     "duration": 0.046467,
     "end_time": "2021-11-04T11:26:48.604709",
     "exception": false,
     "start_time": "2021-11-04T11:26:48.558242",
     "status": "completed"
    },
    "tags": []
   },
   "outputs": [
    {
     "data": {
      "text/plain": [
       "1    97283\n",
       "0    16396\n",
       "Name: Sentiment, dtype: int64"
      ]
     },
     "execution_count": 14,
     "metadata": {},
     "output_type": "execute_result"
    }
   ],
   "source": [
    "sentiment = df2['Sentiment'].value_counts()\n",
    "sentiment"
   ]
  },
  {
   "cell_type": "code",
   "execution_count": 15,
   "id": "f08a9d8a",
   "metadata": {
    "execution": {
     "iopub.execute_input": "2021-11-04T11:26:48.678152Z",
     "iopub.status.busy": "2021-11-04T11:26:48.677437Z",
     "iopub.status.idle": "2021-11-04T11:26:48.819742Z",
     "shell.execute_reply": "2021-11-04T11:26:48.819119Z",
     "shell.execute_reply.started": "2021-11-04T11:21:03.195976Z"
    },
    "papermill": {
     "duration": 0.180246,
     "end_time": "2021-11-04T11:26:48.819901",
     "exception": false,
     "start_time": "2021-11-04T11:26:48.639655",
     "status": "completed"
    },
    "tags": []
   },
   "outputs": [
    {
     "data": {
      "image/png": "[encoded data removed]",
      "text/plain": [
       "<Figure size 720x576 with 1 Axes>"
      ]
     },
     "metadata": {},
     "output_type": "display_data"
    }
   ],
   "source": [
    "plt.figure(figsize = ( 10,8))\n",
    "sns.countplot(data = df2, x = 'Sentiment')\n",
    "plt.show()"
   ]
  },
  {
   "cell_type": "code",
   "execution_count": 16,
   "id": "59465b35",
   "metadata": {
    "execution": {
     "iopub.execute_input": "2021-11-04T11:26:48.899632Z",
     "iopub.status.busy": "2021-11-04T11:26:48.898929Z",
     "iopub.status.idle": "2021-11-04T11:26:48.901083Z",
     "shell.execute_reply": "2021-11-04T11:26:48.901655Z",
     "shell.execute_reply.started": "2021-11-04T11:21:03.334425Z"
    },
    "papermill": {
     "duration": 0.046116,
     "end_time": "2021-11-04T11:26:48.901834",
     "exception": false,
     "start_time": "2021-11-04T11:26:48.855718",
     "status": "completed"
    },
    "tags": []
   },
   "outputs": [],
   "source": [
    "def clean_text(Review):\n",
    "   \n",
    "    Review = str(Review).lower() # convert to lowercase\n",
    "    Review = re.sub('\\[.*?\\]', '', Review) \n",
    "    Review = re.sub('https?://\\S+|www\\.\\S+', '', Review) # Remove URls\n",
    "    Review = re.sub('<.*?>+', '', Review)\n",
    "    Review = re.sub(r'[^a-z0-9\\s]', '', Review) # Remove punctuation\n",
    "    Review = re.sub('\\n', '', Review)\n",
    "    Review = re.sub('\\w*\\d\\w*', '', Review)\n",
    "    return Review"
   ]
  },
  {
   "cell_type": "code",
   "execution_count": 17,
   "id": "261be04e",
   "metadata": {
    "execution": {
     "iopub.execute_input": "2021-11-04T11:26:48.977652Z",
     "iopub.status.busy": "2021-11-04T11:26:48.976931Z",
     "iopub.status.idle": "2021-11-04T11:26:48.984000Z",
     "shell.execute_reply": "2021-11-04T11:26:48.984474Z",
     "shell.execute_reply.started": "2021-11-04T11:21:03.343551Z"
    },
    "papermill": {
     "duration": 0.046904,
     "end_time": "2021-11-04T11:26:48.984655",
     "exception": false,
     "start_time": "2021-11-04T11:26:48.937751",
     "status": "completed"
    },
    "tags": []
   },
   "outputs": [
    {
     "data": {
      "text/plain": [
       "0         I have tried many foods with my dog's sensitiv...\n",
       "1         I am a vegetarian, and I wanted so badly to li...\n",
       "2         It was nicely packaged and arrived very quickl...\n",
       "3         This was our second order of Senseo Dark Roast...\n",
       "4         I ate most of these in a small bag. I had the ...\n",
       "                                ...                        \n",
       "113686    I bought this product for my boyfriend who abs...\n",
       "113687    I was looking for a product with some powerful...\n",
       "113688    I bought a 2-pack of the chicken flavored Ever...\n",
       "113689    My Maltese loves the small bite kibble and fla...\n",
       "113690    This product is delicious and so easy and fast...\n",
       "Name: Review, Length: 113679, dtype: object"
      ]
     },
     "execution_count": 17,
     "metadata": {},
     "output_type": "execute_result"
    }
   ],
   "source": [
    "df2['Review']"
   ]
  },
  {
   "cell_type": "code",
   "execution_count": 18,
   "id": "acfcc945",
   "metadata": {
    "execution": {
     "iopub.execute_input": "2021-11-04T11:26:49.072154Z",
     "iopub.status.busy": "2021-11-04T11:26:49.071096Z",
     "iopub.status.idle": "2021-11-04T11:27:03.208782Z",
     "shell.execute_reply": "2021-11-04T11:27:03.209283Z",
     "shell.execute_reply.started": "2021-11-04T11:21:03.359655Z"
    },
    "papermill": {
     "duration": 14.187171,
     "end_time": "2021-11-04T11:27:03.209509",
     "exception": false,
     "start_time": "2021-11-04T11:26:49.022338",
     "status": "completed"
    },
    "tags": []
   },
   "outputs": [],
   "source": [
    "df2['Review'] = df2['Review'].apply(clean_text)"
   ]
  },
  {
   "cell_type": "code",
   "execution_count": 19,
   "id": "2eccb78b",
   "metadata": {
    "execution": {
     "iopub.execute_input": "2021-11-04T11:27:03.292890Z",
     "iopub.status.busy": "2021-11-04T11:27:03.291841Z",
     "iopub.status.idle": "2021-11-04T11:27:03.296205Z",
     "shell.execute_reply": "2021-11-04T11:27:03.295686Z",
     "shell.execute_reply.started": "2021-11-04T11:21:17.378862Z"
    },
    "papermill": {
     "duration": 0.050435,
     "end_time": "2021-11-04T11:27:03.296355",
     "exception": false,
     "start_time": "2021-11-04T11:27:03.245920",
     "status": "completed"
    },
    "tags": []
   },
   "outputs": [
    {
     "data": {
      "text/html": [
       "<div>\n",
       "<style scoped>\n",
       "    .dataframe tbody tr th:only-of-type {\n",
       "        vertical-align: middle;\n",
       "    }\n",
       "\n",
       "    .dataframe tbody tr th {\n",
       "        vertical-align: top;\n",
       "    }\n",
       "\n",
       "    .dataframe thead th {\n",
       "        text-align: right;\n",
       "    }\n",
       "</style>\n",
       "<table border=\"1\" class=\"dataframe\">\n",
       "  <thead>\n",
       "    <tr style=\"text-align: right;\">\n",
       "      <th></th>\n",
       "      <th>Review</th>\n",
       "      <th>Sentiment</th>\n",
       "    </tr>\n",
       "  </thead>\n",
       "  <tbody>\n",
       "    <tr>\n",
       "      <th>0</th>\n",
       "      <td>i have tried many foods with my dogs sensitive...</td>\n",
       "      <td>1</td>\n",
       "    </tr>\n",
       "    <tr>\n",
       "      <th>1</th>\n",
       "      <td>i am a vegetarian and i wanted so badly to lik...</td>\n",
       "      <td>0</td>\n",
       "    </tr>\n",
       "    <tr>\n",
       "      <th>2</th>\n",
       "      <td>it was nicely packaged and arrived very quickl...</td>\n",
       "      <td>1</td>\n",
       "    </tr>\n",
       "    <tr>\n",
       "      <th>3</th>\n",
       "      <td>this was our second order of senseo dark roast...</td>\n",
       "      <td>0</td>\n",
       "    </tr>\n",
       "    <tr>\n",
       "      <th>4</th>\n",
       "      <td>i ate most of these in a small bag i had the w...</td>\n",
       "      <td>0</td>\n",
       "    </tr>\n",
       "  </tbody>\n",
       "</table>\n",
       "</div>"
      ],
      "text/plain": [
       "                                              Review  Sentiment\n",
       "0  i have tried many foods with my dogs sensitive...          1\n",
       "1  i am a vegetarian and i wanted so badly to lik...          0\n",
       "2  it was nicely packaged and arrived very quickl...          1\n",
       "3  this was our second order of senseo dark roast...          0\n",
       "4  i ate most of these in a small bag i had the w...          0"
      ]
     },
     "execution_count": 19,
     "metadata": {},
     "output_type": "execute_result"
    }
   ],
   "source": [
    "df2.head()"
   ]
  },
  {
   "cell_type": "code",
   "execution_count": 20,
   "id": "917e2145",
   "metadata": {
    "execution": {
     "iopub.execute_input": "2021-11-04T11:27:03.377277Z",
     "iopub.status.busy": "2021-11-04T11:27:03.376489Z",
     "iopub.status.idle": "2021-11-04T11:28:22.759069Z",
     "shell.execute_reply": "2021-11-04T11:28:22.759804Z",
     "shell.execute_reply.started": "2021-11-04T11:21:17.391667Z"
    },
    "papermill": {
     "duration": 79.427399,
     "end_time": "2021-11-04T11:28:22.760023",
     "exception": false,
     "start_time": "2021-11-04T11:27:03.332624",
     "status": "completed"
    },
    "tags": []
   },
   "outputs": [],
   "source": [
    "from nltk.corpus import stopwords\n",
    "stop_words = set(stopwords.words('english'))\n",
    "stopword = []\n",
    "sentence = df2['Review'][0]\n",
    "\n",
    "\n",
    "#words = nltk.word_tokenize(sentence)\n",
    "\n",
    "\n",
    "def remove_stopword(stop_words, sentence):\n",
    "    return [word for word in nltk.word_tokenize(sentence) if word not in stop_words]\n",
    "\n",
    "df2['reviews_text'] = df2['Review'].apply(lambda row: remove_stopword(stop_words, row))\n",
    "\n",
    "## need to convert list into string\n",
    "df2['reviews_text'] = df2['reviews_text'].apply(lambda row: ','.join(row))"
   ]
  },
  {
   "cell_type": "code",
   "execution_count": 21,
   "id": "16afb9ae",
   "metadata": {
    "execution": {
     "iopub.execute_input": "2021-11-04T11:28:22.838032Z",
     "iopub.status.busy": "2021-11-04T11:28:22.837315Z",
     "iopub.status.idle": "2021-11-04T11:28:22.849222Z",
     "shell.execute_reply": "2021-11-04T11:28:22.848555Z",
     "shell.execute_reply.started": "2021-11-04T11:22:36.073529Z"
    },
    "papermill": {
     "duration": 0.052056,
     "end_time": "2021-11-04T11:28:22.849371",
     "exception": false,
     "start_time": "2021-11-04T11:28:22.797315",
     "status": "completed"
    },
    "tags": []
   },
   "outputs": [
    {
     "data": {
      "text/html": [
       "<div>\n",
       "<style scoped>\n",
       "    .dataframe tbody tr th:only-of-type {\n",
       "        vertical-align: middle;\n",
       "    }\n",
       "\n",
       "    .dataframe tbody tr th {\n",
       "        vertical-align: top;\n",
       "    }\n",
       "\n",
       "    .dataframe thead th {\n",
       "        text-align: right;\n",
       "    }\n",
       "</style>\n",
       "<table border=\"1\" class=\"dataframe\">\n",
       "  <thead>\n",
       "    <tr style=\"text-align: right;\">\n",
       "      <th></th>\n",
       "      <th>Review</th>\n",
       "      <th>Sentiment</th>\n",
       "      <th>reviews_text</th>\n",
       "    </tr>\n",
       "  </thead>\n",
       "  <tbody>\n",
       "    <tr>\n",
       "      <th>0</th>\n",
       "      <td>i have tried many foods with my dogs sensitive...</td>\n",
       "      <td>1</td>\n",
       "      <td>tried,many,foods,dogs,sensitive,stomach,limite...</td>\n",
       "    </tr>\n",
       "    <tr>\n",
       "      <th>1</th>\n",
       "      <td>i am a vegetarian and i wanted so badly to lik...</td>\n",
       "      <td>0</td>\n",
       "      <td>vegetarian,wanted,badly,like,vegan,jerky,soon,...</td>\n",
       "    </tr>\n",
       "    <tr>\n",
       "      <th>2</th>\n",
       "      <td>it was nicely packaged and arrived very quickl...</td>\n",
       "      <td>1</td>\n",
       "      <td>nicely,packaged,arrived,quickly,product,also,g...</td>\n",
       "    </tr>\n",
       "  </tbody>\n",
       "</table>\n",
       "</div>"
      ],
      "text/plain": [
       "                                              Review  Sentiment  \\\n",
       "0  i have tried many foods with my dogs sensitive...          1   \n",
       "1  i am a vegetarian and i wanted so badly to lik...          0   \n",
       "2  it was nicely packaged and arrived very quickl...          1   \n",
       "\n",
       "                                        reviews_text  \n",
       "0  tried,many,foods,dogs,sensitive,stomach,limite...  \n",
       "1  vegetarian,wanted,badly,like,vegan,jerky,soon,...  \n",
       "2  nicely,packaged,arrived,quickly,product,also,g...  "
      ]
     },
     "execution_count": 21,
     "metadata": {},
     "output_type": "execute_result"
    }
   ],
   "source": [
    "df2.head(3)"
   ]
  },
  {
   "cell_type": "code",
   "execution_count": 22,
   "id": "fa6a2a1e",
   "metadata": {
    "execution": {
     "iopub.execute_input": "2021-11-04T11:28:22.930552Z",
     "iopub.status.busy": "2021-11-04T11:28:22.929859Z",
     "iopub.status.idle": "2021-11-04T11:28:22.938918Z",
     "shell.execute_reply": "2021-11-04T11:28:22.938348Z",
     "shell.execute_reply.started": "2021-11-04T11:22:36.086320Z"
    },
    "papermill": {
     "duration": 0.051946,
     "end_time": "2021-11-04T11:28:22.939079",
     "exception": false,
     "start_time": "2021-11-04T11:28:22.887133",
     "status": "completed"
    },
    "tags": []
   },
   "outputs": [],
   "source": [
    "from sklearn.pipeline import Pipeline\n",
    "from sklearn.feature_extraction.text import CountVectorizer, TfidfVectorizer, TfidfTransformer\n",
    "from sklearn.naive_bayes import MultinomialNB\n",
    "clf = Pipeline([\n",
    "    ('vect', CountVectorizer(stop_words= \"english\")),\n",
    "    ('tfidf', TfidfTransformer()),\n",
    "    ('classifier', MultinomialNB()),\n",
    "    ])"
   ]
  },
  {
   "cell_type": "code",
   "execution_count": 23,
   "id": "0b5cdb7f",
   "metadata": {
    "execution": {
     "iopub.execute_input": "2021-11-04T11:28:23.017552Z",
     "iopub.status.busy": "2021-11-04T11:28:23.016859Z",
     "iopub.status.idle": "2021-11-04T11:28:23.020943Z",
     "shell.execute_reply": "2021-11-04T11:28:23.021435Z",
     "shell.execute_reply.started": "2021-11-04T11:22:36.108026Z"
    },
    "papermill": {
     "duration": 0.045364,
     "end_time": "2021-11-04T11:28:23.021615",
     "exception": false,
     "start_time": "2021-11-04T11:28:22.976251",
     "status": "completed"
    },
    "tags": []
   },
   "outputs": [],
   "source": [
    "X = df2['reviews_text']\n",
    "y = df2['Sentiment']\n"
   ]
  },
  {
   "cell_type": "code",
   "execution_count": 24,
   "id": "771dd691",
   "metadata": {
    "execution": {
     "iopub.execute_input": "2021-11-04T11:28:23.112381Z",
     "iopub.status.busy": "2021-11-04T11:28:23.111461Z",
     "iopub.status.idle": "2021-11-04T11:28:23.154276Z",
     "shell.execute_reply": "2021-11-04T11:28:23.154985Z",
     "shell.execute_reply.started": "2021-11-04T11:22:36.115336Z"
    },
    "papermill": {
     "duration": 0.093541,
     "end_time": "2021-11-04T11:28:23.155164",
     "exception": false,
     "start_time": "2021-11-04T11:28:23.061623",
     "status": "completed"
    },
    "tags": []
   },
   "outputs": [
    {
     "data": {
      "text/plain": [
       "((90943,), (22736,), (90943,))"
      ]
     },
     "execution_count": 24,
     "metadata": {},
     "output_type": "execute_result"
    }
   ],
   "source": [
    "from sklearn.model_selection import train_test_split\n",
    "X_train, X_test, y_train, y_test = train_test_split(X, y,random_state = 42,\n",
    "                                                   test_size = 0.20)\n",
    "X_train.shape,X_test.shape,y_train.shape"
   ]
  },
  {
   "cell_type": "code",
   "execution_count": 25,
   "id": "6e3c6da4",
   "metadata": {
    "execution": {
     "iopub.execute_input": "2021-11-04T11:28:23.241934Z",
     "iopub.status.busy": "2021-11-04T11:28:23.241230Z",
     "iopub.status.idle": "2021-11-04T11:28:29.240015Z",
     "shell.execute_reply": "2021-11-04T11:28:29.239308Z",
     "shell.execute_reply.started": "2021-11-04T11:22:36.149657Z"
    },
    "papermill": {
     "duration": 6.040631,
     "end_time": "2021-11-04T11:28:29.240165",
     "exception": false,
     "start_time": "2021-11-04T11:28:23.199534",
     "status": "completed"
    },
    "tags": []
   },
   "outputs": [],
   "source": [
    "fit_model = clf.fit(X_train,y_train)"
   ]
  },
  {
   "cell_type": "code",
   "execution_count": 26,
   "id": "b4d1f5a2",
   "metadata": {
    "execution": {
     "iopub.execute_input": "2021-11-04T11:28:29.361504Z",
     "iopub.status.busy": "2021-11-04T11:28:29.351171Z",
     "iopub.status.idle": "2021-11-04T11:28:30.699200Z",
     "shell.execute_reply": "2021-11-04T11:28:30.698527Z",
     "shell.execute_reply.started": "2021-11-04T11:22:41.688742Z"
    },
    "papermill": {
     "duration": 1.421221,
     "end_time": "2021-11-04T11:28:30.699349",
     "exception": false,
     "start_time": "2021-11-04T11:28:29.278128",
     "status": "completed"
    },
    "tags": []
   },
   "outputs": [],
   "source": [
    "y_pred = clf.predict(X_test)"
   ]
  },
  {
   "cell_type": "code",
   "execution_count": 27,
   "id": "ada5aa6a",
   "metadata": {
    "execution": {
     "iopub.execute_input": "2021-11-04T11:28:30.799224Z",
     "iopub.status.busy": "2021-11-04T11:28:30.783316Z",
     "iopub.status.idle": "2021-11-04T11:28:37.527937Z",
     "shell.execute_reply": "2021-11-04T11:28:37.527331Z",
     "shell.execute_reply.started": "2021-11-04T11:22:42.988446Z"
    },
    "papermill": {
     "duration": 6.791296,
     "end_time": "2021-11-04T11:28:37.528091",
     "exception": false,
     "start_time": "2021-11-04T11:28:30.736795",
     "status": "completed"
    },
    "tags": []
   },
   "outputs": [
    {
     "name": "stdout",
     "output_type": "stream",
     "text": [
      "Training accuracy: 0.8587027038914485\n",
      "Test accuracy: 0.854371921182266\n"
     ]
    }
   ],
   "source": [
    "print('Training accuracy:', fit_model.score(X_train,y_train))\n",
    "print('Test accuracy:', fit_model.score(X_test,y_test))"
   ]
  },
  {
   "cell_type": "code",
   "execution_count": 28,
   "id": "4b86f029",
   "metadata": {
    "execution": {
     "iopub.execute_input": "2021-11-04T11:28:37.610623Z",
     "iopub.status.busy": "2021-11-04T11:28:37.609342Z",
     "iopub.status.idle": "2021-11-04T11:28:37.684497Z",
     "shell.execute_reply": "2021-11-04T11:28:37.685034Z",
     "shell.execute_reply.started": "2021-11-04T11:22:49.266452Z"
    },
    "papermill": {
     "duration": 0.119092,
     "end_time": "2021-11-04T11:28:37.685210",
     "exception": false,
     "start_time": "2021-11-04T11:28:37.566118",
     "status": "completed"
    },
    "tags": []
   },
   "outputs": [
    {
     "name": "stdout",
     "output_type": "stream",
     "text": [
      "              precision    recall  f1-score   support\n",
      "\n",
      "           0       0.89      0.01      0.01      3326\n",
      "           1       0.85      1.00      0.92     19410\n",
      "\n",
      "    accuracy                           0.85     22736\n",
      "   macro avg       0.87      0.50      0.47     22736\n",
      "weighted avg       0.86      0.85      0.79     22736\n",
      "\n",
      "[[   17  3309]\n",
      " [    2 19408]]\n"
     ]
    }
   ],
   "source": [
    "from sklearn.metrics import classification_report, confusion_matrix\n",
    "print(classification_report(y_test,y_pred))\n",
    "\n",
    "print(confusion_matrix(y_test,y_pred))"
   ]
  }
 ],
 "metadata": {
  "kernelspec": {
   "display_name": "Python 3 (ipykernel)",
   "language": "python",
   "name": "python3"
  },
  "language_info": {
   "codemirror_mode": {
    "name": "ipython",
    "version": 3
   },
   "file_extension": ".py",
   "mimetype": "text/x-python",
   "name": "python",
   "nbconvert_exporter": "python",
   "pygments_lexer": "ipython3",
   "version": "3.9.12"
  },
  "papermill": {
   "default_parameters": {},
   "duration": 167.933758,
   "end_time": "2021-11-04T11:28:39.231129",
   "environment_variables": {},
   "exception": null,
   "input_path": "__notebook__.ipynb",
   "output_path": "__notebook__.ipynb",
   "parameters": {},
   "start_time": "2021-11-04T11:25:51.297371",
   "version": "2.3.3"
  }
 },
 "nbformat": 4,
 "nbformat_minor": 5
}
